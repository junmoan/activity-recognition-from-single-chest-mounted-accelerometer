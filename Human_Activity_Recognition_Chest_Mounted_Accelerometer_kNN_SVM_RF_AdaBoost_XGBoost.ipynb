{
  "nbformat": 4,
  "nbformat_minor": 0,
  "metadata": {
    "colab": {
      "name": "Human_Activity_Recognition_Chest_Mounted_Accelerometer_kNN_SVM_RF_AdaBoost_XGBoost.ipynb",
      "provenance": [],
      "collapsed_sections": []
    },
    "kernelspec": {
      "name": "python3",
      "display_name": "Python 3"
    },
    "accelerator": "TPU"
  },
  "cells": [
    {
      "cell_type": "code",
      "metadata": {
        "id": "D3D3VkFVjIkQ",
        "colab_type": "code",
        "colab": {}
      },
      "source": [
        "# Import the machine learning libraries.\n",
        "import pandas as pd\n",
        "import numpy as np\n",
        "import os\n",
        "import matplotlib.pyplot as plt"
      ],
      "execution_count": 0,
      "outputs": []
    },
    {
      "cell_type": "code",
      "metadata": {
        "id": "vjJvgWwLjeDd",
        "colab_type": "code",
        "colab": {}
      },
      "source": [
        "os.chdir(r'./drive/My Drive/ML_Code/Human Activity Recognition/HAR/')"
      ],
      "execution_count": 0,
      "outputs": []
    },
    {
      "cell_type": "code",
      "metadata": {
        "id": "_V1qwD62kBRM",
        "colab_type": "code",
        "outputId": "d30e3e9b-c42d-4d69-f4ba-5a3779d2a8af",
        "colab": {
          "base_uri": "https://localhost:8080/",
          "height": 54
        }
      },
      "source": [
        "dir_list = os.listdir()\n",
        "print(dir_list)"
      ],
      "execution_count": 3,
      "outputs": [
        {
          "output_type": "stream",
          "text": [
            "['1.csv', '2.csv', '3.csv', '4.csv', '5.csv', '6.csv', '7.csv', '8.csv', '9.csv', '10.csv', '11.csv', '12.csv', '13.csv', '14.csv', '15.csv', 'README', 'model.png']\n"
          ],
          "name": "stdout"
        }
      ]
    },
    {
      "cell_type": "code",
      "metadata": {
        "id": "IaDL1Q-ukI_Z",
        "colab_type": "code",
        "outputId": "8fdd5dca-3d74-4b31-af2a-bf3ec71a8c7d",
        "colab": {
          "base_uri": "https://localhost:8080/",
          "height": 34
        }
      },
      "source": [
        "# Create new list of 15 datasets.\n",
        "list_files = [i for i in dir_list if i[0].isdigit()]\n",
        "trans_list = sorted([int(i.split('.')[0]) for i in list_files])\n",
        "new_list = [str(i) + '.csv' for i in trans_list]\n",
        "print(new_list)"
      ],
      "execution_count": 4,
      "outputs": [
        {
          "output_type": "stream",
          "text": [
            "['1.csv', '2.csv', '3.csv', '4.csv', '5.csv', '6.csv', '7.csv', '8.csv', '9.csv', '10.csv', '11.csv', '12.csv', '13.csv', '14.csv', '15.csv']\n"
          ],
          "name": "stdout"
        }
      ]
    },
    {
      "cell_type": "code",
      "metadata": {
        "id": "PiPz5j1GkPxb",
        "colab_type": "code",
        "outputId": "7ad1e213-5692-48cb-aad0-74e9e61f945e",
        "colab": {
          "base_uri": "https://localhost:8080/",
          "height": 255
        }
      },
      "source": [
        "# Prepar2 data sets and visualizing all 15 data sets per activity.\n",
        "dict_files = {}\n",
        "column_names = ['number', 'x', 'y', 'z', 'activity']\n",
        "for name in new_list:\n",
        "    df = pd.read_csv(name, names = column_names, low_memory=False)\n",
        "    dict_files[name] = df\n",
        "print(dict_files['1.csv'])"
      ],
      "execution_count": 5,
      "outputs": [
        {
          "output_type": "stream",
          "text": [
            "          number     x     y     z  activity\n",
            "0            0.0  1502  2215  2153         1\n",
            "1            1.0  1667  2072  2047         1\n",
            "2            2.0  1611  1957  1906         1\n",
            "3            3.0  1601  1939  1831         1\n",
            "4            4.0  1643  1965  1879         1\n",
            "...          ...   ...   ...   ...       ...\n",
            "162496  162500.0  1927  2388  2074         7\n",
            "162497  162500.0  1930  2383  2074         7\n",
            "162498  162500.0  1929  2385  2076         7\n",
            "162499  162500.0  1926  2385  2078         7\n",
            "162500  162500.0  1922  2387  2078         0\n",
            "\n",
            "[162501 rows x 5 columns]\n"
          ],
          "name": "stdout"
        }
      ]
    },
    {
      "cell_type": "code",
      "metadata": {
        "id": "yFsoggyrkhH9",
        "colab_type": "code",
        "outputId": "d1399616-f164-4c09-cc4f-e9f7d7b4ef75",
        "colab": {
          "base_uri": "https://localhost:8080/",
          "height": 1000
        }
      },
      "source": [
        "# Visualisation.\n",
        "for file, data in dict_files.items():\n",
        "    print(\"Subject #\", file)\n",
        "    activity_group = data.groupby('activity').size()\n",
        "    plt.bar(activity_group.index, activity_group.values, color='gray')\n",
        "    plt.ylabel('Frequency')\n",
        "    plt.xlabel('Activity Number')\n",
        "    plt.grid(True)\n",
        "    plt.show()"
      ],
      "execution_count": 6,
      "outputs": [
        {
          "output_type": "stream",
          "text": [
            "Subject # 1.csv\n"
          ],
          "name": "stdout"
        },
        {
          "output_type": "display_data",
          "data": {
            "image/png": "[encoded data removed]",
            "text/plain": [
              "<Figure size 432x288 with 1 Axes>"
            ]
          },
          "metadata": {
            "tags": [],
            "needs_background": "light"
          }
        },
        {
          "output_type": "stream",
          "text": [
            "Subject # 2.csv\n"
          ],
          "name": "stdout"
        },
        {
          "output_type": "display_data",
          "data": {
            "image/png": "[encoded data removed]",
            "text/plain": [
              "<Figure size 432x288 with 1 Axes>"
            ]
          },
          "metadata": {
            "tags": [],
            "needs_background": "light"
          }
        },
        {
          "output_type": "stream",
          "text": [
            "Subject # 3.csv\n"
          ],
          "name": "stdout"
        },
        {
          "output_type": "display_data",
          "data": {
            "image/png": "[encoded data removed]",
            "text/plain": [
              "<Figure size 432x288 with 1 Axes>"
            ]
          },
          "metadata": {
            "tags": [],
            "needs_background": "light"
          }
        },
        {
          "output_type": "stream",
          "text": [
            "Subject # 4.csv\n"
          ],
          "name": "stdout"
        },
        {
          "output_type": "display_data",
          "data": {
            "image/png": "[encoded data removed]",
            "text/plain": [
              "<Figure size 432x288 with 1 Axes>"
            ]
          },
          "metadata": {
            "tags": [],
            "needs_background": "light"
          }
        },
        {
          "output_type": "stream",
          "text": [
            "Subject # 5.csv\n"
          ],
          "name": "stdout"
        },
        {
          "output_type": "display_data",
          "data": {
            "image/png": "[encoded data removed]",
            "text/plain": [
              "<Figure size 432x288 with 1 Axes>"
            ]
          },
          "metadata": {
            "tags": [],
            "needs_background": "light"
          }
        },
        {
          "output_type": "stream",
          "text": [
            "Subject # 6.csv\n"
          ],
          "name": "stdout"
        },
        {
          "output_type": "display_data",
          "data": {
            "image/png": "[encoded data removed]",
            "text/plain": [
              "<Figure size 432x288 with 1 Axes>"
            ]
          },
          "metadata": {
            "tags": [],
            "needs_background": "light"
          }
        },
        {
          "output_type": "stream",
          "text": [
            "Subject # 7.csv\n"
          ],
          "name": "stdout"
        },
        {
          "output_type": "display_data",
          "data": {
            "image/png": "[encoded data removed]",
            "text/plain": [
              "<Figure size 432x288 with 1 Axes>"
            ]
          },
          "metadata": {
            "tags": [],
            "needs_background": "light"
          }
        },
        {
          "output_type": "stream",
          "text": [
            "Subject # 8.csv\n"
          ],
          "name": "stdout"
        },
        {
          "output_type": "display_data",
          "data": {
            "image/png": "[encoded data removed]",
            "text/plain": [
              "<Figure size 432x288 with 1 Axes>"
            ]
          },
          "metadata": {
            "tags": [],
            "needs_background": "light"
          }
        },
        {
          "output_type": "stream",
          "text": [
            "Subject # 9.csv\n"
          ],
          "name": "stdout"
        },
        {
          "output_type": "display_data",
          "data": {
            "image/png": "[encoded data removed]",
            "text/plain": [
              "<Figure size 432x288 with 1 Axes>"
            ]
          },
          "metadata": {
            "tags": [],
            "needs_background": "light"
          }
        },
        {
          "output_type": "stream",
          "text": [
            "Subject # 10.csv\n"
          ],
          "name": "stdout"
        },
        {
          "output_type": "display_data",
          "data": {
            "image/png": "[encoded data removed]",
            "text/plain": [
              "<Figure size 432x288 with 1 Axes>"
            ]
          },
          "metadata": {
            "tags": [],
            "needs_background": "light"
          }
        },
        {
          "output_type": "stream",
          "text": [
            "Subject # 11.csv\n"
          ],
          "name": "stdout"
        },
        {
          "output_type": "display_data",
          "data": {
            "image/png": "[encoded data removed]",
            "text/plain": [
              "<Figure size 432x288 with 1 Axes>"
            ]
          },
          "metadata": {
            "tags": [],
            "needs_background": "light"
          }
        },
        {
          "output_type": "stream",
          "text": [
            "Subject # 12.csv\n"
          ],
          "name": "stdout"
        },
        {
          "output_type": "display_data",
          "data": {
            "image/png": "[encoded data removed]",
            "text/plain": [
              "<Figure size 432x288 with 1 Axes>"
            ]
          },
          "metadata": {
            "tags": [],
            "needs_background": "light"
          }
        },
        {
          "output_type": "stream",
          "text": [
            "Subject # 13.csv\n"
          ],
          "name": "stdout"
        },
        {
          "output_type": "display_data",
          "data": {
            "image/png": "[encoded data removed]",
            "text/plain": [
              "<Figure size 432x288 with 1 Axes>"
            ]
          },
          "metadata": {
            "tags": [],
            "needs_background": "light"
          }
        },
        {
          "output_type": "stream",
          "text": [
            "Subject # 14.csv\n"
          ],
          "name": "stdout"
        },
        {
          "output_type": "display_data",
          "data": {
            "image/png": "[encoded data removed]",
            "text/plain": [
              "<Figure size 432x288 with 1 Axes>"
            ]
          },
          "metadata": {
            "tags": [],
            "needs_background": "light"
          }
        },
        {
          "output_type": "stream",
          "text": [
            "Subject # 15.csv\n"
          ],
          "name": "stdout"
        },
        {
          "output_type": "display_data",
          "data": {
            "image/png": "[encoded data removed]",
            "text/plain": [
              "<Figure size 432x288 with 1 Axes>"
            ]
          },
          "metadata": {
            "tags": [],
            "needs_background": "light"
          }
        }
      ]
    },
    {
      "cell_type": "code",
      "metadata": {
        "id": "9XZsd1nAkt8w",
        "colab_type": "code",
        "outputId": "f1c4cce1-f302-4a22-a40b-1e86a95477a1",
        "colab": {
          "base_uri": "https://localhost:8080/",
          "height": 1000
        }
      },
      "source": [
        "# Prepare dataset.\n",
        "all = []\n",
        "labels = list(range(1,len(list_files)+1))   # [1,2,3,4,5,6,7,8,9,10,11,12,13,14,15]\n",
        "print(labels)\n",
        "for index, item in enumerate(list_files):\n",
        "    file_table = pd.read_csv(item, names = ['number', 'x', 'y','z','activity'], low_memory=False)\n",
        "    sLength = file_table.shape[0]\n",
        "    df = file_table.assign(label = pd.Series([labels[index]]*sLength))\n",
        "    df_clear = df[df.activity != 0]\n",
        "    all.append(df_clear)\n",
        "print(all)"
      ],
      "execution_count": 7,
      "outputs": [
        {
          "output_type": "stream",
          "text": [
            "[1, 2, 3, 4, 5, 6, 7, 8, 9, 10, 11, 12, 13, 14, 15]\n",
            "[          number     x     y     z  activity  label\n",
            "0            0.0  1502  2215  2153         1      1\n",
            "1            1.0  1667  2072  2047         1      1\n",
            "2            2.0  1611  1957  1906         1      1\n",
            "3            3.0  1601  1939  1831         1      1\n",
            "4            4.0  1643  1965  1879         1      1\n",
            "...          ...   ...   ...   ...       ...    ...\n",
            "162495  162500.0  1926  2382  2072         7      1\n",
            "162496  162500.0  1927  2388  2074         7      1\n",
            "162497  162500.0  1930  2383  2074         7      1\n",
            "162498  162500.0  1929  2385  2076         7      1\n",
            "162499  162500.0  1926  2385  2078         7      1\n",
            "\n",
            "[162500 rows x 6 columns],           number     x     y     z  activity  label\n",
            "0            0.0  1984  1998  1645         1      2\n",
            "1            1.0  1984  2003  1653         1      2\n",
            "2            2.0  1987  2002  1648         1      2\n",
            "3            3.0  1990  2001  1650         1      2\n",
            "4            4.0  1992  2000  1657         1      2\n",
            "...          ...   ...   ...   ...       ...    ...\n",
            "137995  138000.0  2150  2316  1979         7      2\n",
            "137996  138000.0  2142  2314  1985         7      2\n",
            "137997  138000.0  2139  2301  1992         7      2\n",
            "137998  138000.0  2136  2315  1990         7      2\n",
            "137999  138000.0  2134  2320  1982         7      2\n",
            "\n",
            "[137731 rows x 6 columns],           number     x     y     z  activity  label\n",
            "0            0.0  1928  2382  1943         1      3\n",
            "1            1.0  1920  2375  1944         1      3\n",
            "2            2.0  1919  2374  1942         1      3\n",
            "3            3.0  1923  2382  1949         1      3\n",
            "4            4.0  1921  2374  1949         1      3\n",
            "...          ...   ...   ...   ...       ...    ...\n",
            "102335  102340.0  1979  2360  1895         7      3\n",
            "102336  102340.0  1979  2363  1893         7      3\n",
            "102337  102340.0  1979  2367  1902         7      3\n",
            "102338  102340.0  1982  2364  1898         7      3\n",
            "102339  102340.0  1983  2359  1898         7      3\n",
            "\n",
            "[102340 rows x 6 columns],           number     x     y     z  activity  label\n",
            "0            0.0  2045  2326  1833         1      4\n",
            "1            1.0  2041  2317  1832         1      4\n",
            "2            2.0  2046  2323  1836         1      4\n",
            "3            3.0  2046  2339  1833         1      4\n",
            "4            4.0  2045  2335  1829         1      4\n",
            "...          ...   ...   ...   ...       ...    ...\n",
            "122195  122200.0  2063  2360  2000         7      4\n",
            "122196  122200.0  2056  2368  2001         7      4\n",
            "122197  122200.0  2059  2366  2001         7      4\n",
            "122198  122200.0  2063  2382  2004         7      4\n",
            "122199  122200.0  2071  2381  2004         7      4\n",
            "\n",
            "[122200 rows x 6 columns],           number     x     y     z  activity  label\n",
            "0            0.0  1915  2337  1906         1      5\n",
            "1            1.0  1912  2341  1886         1      5\n",
            "2            2.0  1825  2281  1845         1      5\n",
            "3            3.0  1900  2440  1922         1      5\n",
            "4            4.0  1945  2299  1869         1      5\n",
            "...          ...   ...   ...   ...       ...    ...\n",
            "159995  160000.0  1917  2346  2038         7      5\n",
            "159996  160000.0  1914  2348  2038         7      5\n",
            "159997  160000.0  1907  2353  2038         7      5\n",
            "159998  160000.0  1899  2352  2050         7      5\n",
            "159999  160000.0  1904  2354  2033         7      5\n",
            "\n",
            "[160000 rows x 6 columns],           number     x     y     z  activity  label\n",
            "0            0.0  1953  1979  1629         1      6\n",
            "1            1.0  1950  1987  1640         1      6\n",
            "2            2.0  1957  1979  1635         1      6\n",
            "3            3.0  1958  1977  1639         1      6\n",
            "4            4.0  1954  1981  1641         1      6\n",
            "...          ...   ...   ...   ...       ...    ...\n",
            "140895  140900.0  2100  2309  1984         7      6\n",
            "140896  140900.0  2098  2305  1982         7      6\n",
            "140897  140900.0  2106  2314  1980         7      6\n",
            "140898  140900.0  2112  2319  1973         7      6\n",
            "140899  140900.0  2111  2319  1969         7      6\n",
            "\n",
            "[140670 rows x 6 columns],           number     x     y     z  activity  label\n",
            "0            0.0  1892  2279  1781         1      7\n",
            "1            1.0  1895  2283  1785         1      7\n",
            "2            2.0  1889  2279  1794         1      7\n",
            "3            3.0  1892  2276  1794         1      7\n",
            "4            4.0  1892  2280  1787         1      7\n",
            "...          ...   ...   ...   ...       ...    ...\n",
            "162995  163000.0  2062  2400  1950         7      7\n",
            "162996  163000.0  2056  2403  1943         7      7\n",
            "162997  163000.0  2060  2404  1938         7      7\n",
            "162998  163000.0  2059  2402  1943         7      7\n",
            "162999  163000.0  2052  2403  1942         7      7\n",
            "\n",
            "[163000 rows x 6 columns],           number     x     y     z  activity  label\n",
            "0            0.0  2057  2043  1665         1      8\n",
            "1            1.0  2045  2039  1666         1      8\n",
            "2            2.0  2042  2036  1662         1      8\n",
            "3            3.0  2045  2042  1660         1      8\n",
            "4            4.0  2043  2037  1660         1      8\n",
            "...          ...   ...   ...   ...       ...    ...\n",
            "137995  138000.0  1700  1845  2034         7      8\n",
            "137996  138000.0  1695  1844  2035         7      8\n",
            "137997  138000.0  1700  1847  2034         7      8\n",
            "137998  138000.0  1708  1849  2031         7      8\n",
            "137999  138000.0  1709  1853  2026         7      8\n",
            "\n",
            "[137795 rows x 6 columns],           number     x     y     z  activity  label\n",
            "0            0.0  2287  2948  2189         1      9\n",
            "1            1.0  2249  2677  2046         1      9\n",
            "2            2.0  2270  2568  2005         1      9\n",
            "3            3.0  2222  2565  2003         1      9\n",
            "4            4.0  2235  2571  2074         1      9\n",
            "...          ...   ...   ...   ...       ...    ...\n",
            "166735  166740.0  2071  2549  2053         7      9\n",
            "166736  166740.0  2072  2545  2059         7      9\n",
            "166737  166740.0  2069  2547  2064         7      9\n",
            "166738  166740.0  2069  2542  2062         7      9\n",
            "166739  166740.0  2069  2543  2063         7      9\n",
            "\n",
            "[163740 rows x 6 columns],           number     x     y     z  activity  label\n",
            "0            0.0  2082  2165  1702         1     10\n",
            "1            1.0  2077  2160  1703         1     10\n",
            "2            2.0  2082  2168  1704         1     10\n",
            "3            3.0  2083  2159  1703         1     10\n",
            "4            4.0  2085  2162  1706         1     10\n",
            "...          ...   ...   ...   ...       ...    ...\n",
            "126795  126800.0  2152  2475  1861         7     10\n",
            "126796  126800.0  2140  2471  1866         7     10\n",
            "126797  126800.0  2113  2469  1885         7     10\n",
            "126798  126800.0  2105  2467  1908         7     10\n",
            "126799  126800.0  2096  2482  1924         7     10\n",
            "\n",
            "[126800 rows x 6 columns],           number     x     y     z  activity  label\n",
            "0            0.0  1983  2438  1825         1     11\n",
            "1            1.0  1948  2442  1797         1     11\n",
            "2            2.0  1927  2388  1784         1     11\n",
            "3            3.0  1960  2319  1831         1     11\n",
            "4            4.0  1967  2274  1871         1     11\n",
            "...          ...   ...   ...   ...       ...    ...\n",
            "104445  104440.0  2041  2352  2041         7     11\n",
            "104446  104450.0  2038  2345  2041         7     11\n",
            "104447  104450.0  2039  2349  2048         7     11\n",
            "104448  104450.0  2037  2350  2046         7     11\n",
            "104449  104450.0  2046  2347  2045         7     11\n",
            "\n",
            "[104450 rows x 6 columns],           number     x     y     z  activity  label\n",
            "0            0.0  1922  2388  1898         1     12\n",
            "1            1.0  1880  2327  1832         1     12\n",
            "2            2.0  1847  2281  1842         1     12\n",
            "3            3.0  1859  2330  1869         1     12\n",
            "4            4.0  1931  2306  1853         1     12\n",
            "...          ...   ...   ...   ...       ...    ...\n",
            "114696  114700.0  1776  2326  1984         7     12\n",
            "114697  114700.0  1775  2323  1973         7     12\n",
            "114698  114700.0  1770  2322  1978         7     12\n",
            "114699  114700.0  1762  2319  1993         7     12\n",
            "114700  114700.0  1761  2311  2013         7     12\n",
            "\n",
            "[114701 rows x 6 columns],        number     x     y     z  activity  label\n",
            "0           0  1820  2181  1589         1     13\n",
            "1           1  1910  2127  1696         1     13\n",
            "2           2  1965  2088  1841         1     13\n",
            "3           3  1996  2135  1529         1     13\n",
            "4           4  1944  2082  1653         1     13\n",
            "...       ...   ...   ...   ...       ...    ...\n",
            "67645   67645  1971  2380  1925         7     13\n",
            "67646   67646  1971  2383  1930         7     13\n",
            "67647   67647  1974  2387  1928         7     13\n",
            "67648   67648  1975  2381  1929         7     13\n",
            "67649   67649  1975  2386  1923         7     13\n",
            "\n",
            "[67650 rows x 6 columns],           number     x     y     z  activity  label\n",
            "0            0.0  1955  2302  1766         1     14\n",
            "1            1.0  1954  2293  1770         1     14\n",
            "2            2.0  1959  2298  1780         1     14\n",
            "3            3.0  1954  2299  1774         1     14\n",
            "4            4.0  1952  2301  1772         1     14\n",
            "...          ...   ...   ...   ...       ...    ...\n",
            "116095  116100.0  1884  2370  1937         7     14\n",
            "116096  116100.0  1880  2368  1938         7     14\n",
            "116097  116100.0  1882  2368  1937         7     14\n",
            "116098  116100.0  1884  2367  1931         7     14\n",
            "116099  116100.0  1882  2370  1942         7     14\n",
            "\n",
            "[116100 rows x 6 columns],           number     x     y     z  activity  label\n",
            "0            0.0  1866  2390  2282         1     15\n",
            "1            1.0  1861  2367  2278         1     15\n",
            "2            2.0  1837  2387  2317         1     15\n",
            "3            3.0  1819  2409  2331         1     15\n",
            "4            4.0  1784  2407  2280         1     15\n",
            "...          ...   ...   ...   ...       ...    ...\n",
            "103495  103500.0  2050  2523  1991         7     15\n",
            "103496  103500.0  2043  2539  1990         7     15\n",
            "103497  103500.0  2036  2508  1976         7     15\n",
            "103498  103500.0  2025  2520  1991         7     15\n",
            "103499  103500.0  2009  2546  2007         7     15\n",
            "\n",
            "[103500 rows x 6 columns]]\n"
          ],
          "name": "stdout"
        }
      ]
    },
    {
      "cell_type": "code",
      "metadata": {
        "id": "qIlZFX4J3_b2",
        "colab_type": "code",
        "colab": {}
      },
      "source": [
        "df_res = pd.concat(all)\n",
        "data = df_res"
      ],
      "execution_count": 0,
      "outputs": []
    },
    {
      "cell_type": "code",
      "metadata": {
        "id": "yzowDXwd4B4S",
        "colab_type": "code",
        "outputId": "70b0099f-01d4-41c9-9d4f-2c29b12fc207",
        "colab": {
          "base_uri": "https://localhost:8080/",
          "height": 204
        }
      },
      "source": [
        "data.head()"
      ],
      "execution_count": 9,
      "outputs": [
        {
          "output_type": "execute_result",
          "data": {
            "text/html": [
              "<div>\n",
              "<style scoped>\n",
              "    .dataframe tbody tr th:only-of-type {\n",
              "        vertical-align: middle;\n",
              "    }\n",
              "\n",
              "    .dataframe tbody tr th {\n",
              "        vertical-align: top;\n",
              "    }\n",
              "\n",
              "    .dataframe thead th {\n",
              "        text-align: right;\n",
              "    }\n",
              "</style>\n",
              "<table border=\"1\" class=\"dataframe\">\n",
              "  <thead>\n",
              "    <tr style=\"text-align: right;\">\n",
              "      <th></th>\n",
              "      <th>number</th>\n",
              "      <th>x</th>\n",
              "      <th>y</th>\n",
              "      <th>z</th>\n",
              "      <th>activity</th>\n",
              "      <th>label</th>\n",
              "    </tr>\n",
              "  </thead>\n",
              "  <tbody>\n",
              "    <tr>\n",
              "      <th>0</th>\n",
              "      <td>0.0</td>\n",
              "      <td>1502</td>\n",
              "      <td>2215</td>\n",
              "      <td>2153</td>\n",
              "      <td>1</td>\n",
              "      <td>1</td>\n",
              "    </tr>\n",
              "    <tr>\n",
              "      <th>1</th>\n",
              "      <td>1.0</td>\n",
              "      <td>1667</td>\n",
              "      <td>2072</td>\n",
              "      <td>2047</td>\n",
              "      <td>1</td>\n",
              "      <td>1</td>\n",
              "    </tr>\n",
              "    <tr>\n",
              "      <th>2</th>\n",
              "      <td>2.0</td>\n",
              "      <td>1611</td>\n",
              "      <td>1957</td>\n",
              "      <td>1906</td>\n",
              "      <td>1</td>\n",
              "      <td>1</td>\n",
              "    </tr>\n",
              "    <tr>\n",
              "      <th>3</th>\n",
              "      <td>3.0</td>\n",
              "      <td>1601</td>\n",
              "      <td>1939</td>\n",
              "      <td>1831</td>\n",
              "      <td>1</td>\n",
              "      <td>1</td>\n",
              "    </tr>\n",
              "    <tr>\n",
              "      <th>4</th>\n",
              "      <td>4.0</td>\n",
              "      <td>1643</td>\n",
              "      <td>1965</td>\n",
              "      <td>1879</td>\n",
              "      <td>1</td>\n",
              "      <td>1</td>\n",
              "    </tr>\n",
              "  </tbody>\n",
              "</table>\n",
              "</div>"
            ],
            "text/plain": [
              "   number     x     y     z  activity  label\n",
              "0     0.0  1502  2215  2153         1      1\n",
              "1     1.0  1667  2072  2047         1      1\n",
              "2     2.0  1611  1957  1906         1      1\n",
              "3     3.0  1601  1939  1831         1      1\n",
              "4     4.0  1643  1965  1879         1      1"
            ]
          },
          "metadata": {
            "tags": []
          },
          "execution_count": 9
        }
      ]
    },
    {
      "cell_type": "code",
      "metadata": {
        "id": "PWFEVR5s4SzF",
        "colab_type": "code",
        "outputId": "1160ae19-b075-4084-808e-c03e4235c789",
        "colab": {
          "base_uri": "https://localhost:8080/",
          "height": 204
        }
      },
      "source": [
        "data.tail()"
      ],
      "execution_count": 10,
      "outputs": [
        {
          "output_type": "execute_result",
          "data": {
            "text/html": [
              "<div>\n",
              "<style scoped>\n",
              "    .dataframe tbody tr th:only-of-type {\n",
              "        vertical-align: middle;\n",
              "    }\n",
              "\n",
              "    .dataframe tbody tr th {\n",
              "        vertical-align: top;\n",
              "    }\n",
              "\n",
              "    .dataframe thead th {\n",
              "        text-align: right;\n",
              "    }\n",
              "</style>\n",
              "<table border=\"1\" class=\"dataframe\">\n",
              "  <thead>\n",
              "    <tr style=\"text-align: right;\">\n",
              "      <th></th>\n",
              "      <th>number</th>\n",
              "      <th>x</th>\n",
              "      <th>y</th>\n",
              "      <th>z</th>\n",
              "      <th>activity</th>\n",
              "      <th>label</th>\n",
              "    </tr>\n",
              "  </thead>\n",
              "  <tbody>\n",
              "    <tr>\n",
              "      <th>103495</th>\n",
              "      <td>103500.0</td>\n",
              "      <td>2050</td>\n",
              "      <td>2523</td>\n",
              "      <td>1991</td>\n",
              "      <td>7</td>\n",
              "      <td>15</td>\n",
              "    </tr>\n",
              "    <tr>\n",
              "      <th>103496</th>\n",
              "      <td>103500.0</td>\n",
              "      <td>2043</td>\n",
              "      <td>2539</td>\n",
              "      <td>1990</td>\n",
              "      <td>7</td>\n",
              "      <td>15</td>\n",
              "    </tr>\n",
              "    <tr>\n",
              "      <th>103497</th>\n",
              "      <td>103500.0</td>\n",
              "      <td>2036</td>\n",
              "      <td>2508</td>\n",
              "      <td>1976</td>\n",
              "      <td>7</td>\n",
              "      <td>15</td>\n",
              "    </tr>\n",
              "    <tr>\n",
              "      <th>103498</th>\n",
              "      <td>103500.0</td>\n",
              "      <td>2025</td>\n",
              "      <td>2520</td>\n",
              "      <td>1991</td>\n",
              "      <td>7</td>\n",
              "      <td>15</td>\n",
              "    </tr>\n",
              "    <tr>\n",
              "      <th>103499</th>\n",
              "      <td>103500.0</td>\n",
              "      <td>2009</td>\n",
              "      <td>2546</td>\n",
              "      <td>2007</td>\n",
              "      <td>7</td>\n",
              "      <td>15</td>\n",
              "    </tr>\n",
              "  </tbody>\n",
              "</table>\n",
              "</div>"
            ],
            "text/plain": [
              "          number     x     y     z  activity  label\n",
              "103495  103500.0  2050  2523  1991         7     15\n",
              "103496  103500.0  2043  2539  1990         7     15\n",
              "103497  103500.0  2036  2508  1976         7     15\n",
              "103498  103500.0  2025  2520  1991         7     15\n",
              "103499  103500.0  2009  2546  2007         7     15"
            ]
          },
          "metadata": {
            "tags": []
          },
          "execution_count": 10
        }
      ]
    },
    {
      "cell_type": "code",
      "metadata": {
        "id": "9uajI5I54XwZ",
        "colab_type": "code",
        "outputId": "b4ad4745-f2b6-4bf0-ad73-b9a6e7ed04a6",
        "colab": {
          "base_uri": "https://localhost:8080/",
          "height": 297
        }
      },
      "source": [
        "data.describe()"
      ],
      "execution_count": 11,
      "outputs": [
        {
          "output_type": "execute_result",
          "data": {
            "text/html": [
              "<div>\n",
              "<style scoped>\n",
              "    .dataframe tbody tr th:only-of-type {\n",
              "        vertical-align: middle;\n",
              "    }\n",
              "\n",
              "    .dataframe tbody tr th {\n",
              "        vertical-align: top;\n",
              "    }\n",
              "\n",
              "    .dataframe thead th {\n",
              "        text-align: right;\n",
              "    }\n",
              "</style>\n",
              "<table border=\"1\" class=\"dataframe\">\n",
              "  <thead>\n",
              "    <tr style=\"text-align: right;\">\n",
              "      <th></th>\n",
              "      <th>number</th>\n",
              "      <th>x</th>\n",
              "      <th>y</th>\n",
              "      <th>z</th>\n",
              "      <th>activity</th>\n",
              "      <th>label</th>\n",
              "    </tr>\n",
              "  </thead>\n",
              "  <tbody>\n",
              "    <tr>\n",
              "      <th>count</th>\n",
              "      <td>1.923177e+06</td>\n",
              "      <td>1.923177e+06</td>\n",
              "      <td>1.923177e+06</td>\n",
              "      <td>1.923177e+06</td>\n",
              "      <td>1.923177e+06</td>\n",
              "      <td>1.923177e+06</td>\n",
              "    </tr>\n",
              "    <tr>\n",
              "      <th>mean</th>\n",
              "      <td>6.715608e+04</td>\n",
              "      <td>1.987479e+03</td>\n",
              "      <td>2.382300e+03</td>\n",
              "      <td>1.970488e+03</td>\n",
              "      <td>3.890407e+00</td>\n",
              "      <td>7.511287e+00</td>\n",
              "    </tr>\n",
              "    <tr>\n",
              "      <th>std</th>\n",
              "      <td>4.148245e+04</td>\n",
              "      <td>1.113408e+02</td>\n",
              "      <td>1.002107e+02</td>\n",
              "      <td>9.449121e+01</td>\n",
              "      <td>2.439785e+00</td>\n",
              "      <td>4.175452e+00</td>\n",
              "    </tr>\n",
              "    <tr>\n",
              "      <th>min</th>\n",
              "      <td>0.000000e+00</td>\n",
              "      <td>2.820000e+02</td>\n",
              "      <td>2.000000e+00</td>\n",
              "      <td>1.000000e+00</td>\n",
              "      <td>1.000000e+00</td>\n",
              "      <td>1.000000e+00</td>\n",
              "    </tr>\n",
              "    <tr>\n",
              "      <th>25%</th>\n",
              "      <td>3.205200e+04</td>\n",
              "      <td>1.904000e+03</td>\n",
              "      <td>2.337000e+03</td>\n",
              "      <td>1.918000e+03</td>\n",
              "      <td>1.000000e+00</td>\n",
              "      <td>4.000000e+00</td>\n",
              "    </tr>\n",
              "    <tr>\n",
              "      <th>50%</th>\n",
              "      <td>6.433400e+04</td>\n",
              "      <td>1.992000e+03</td>\n",
              "      <td>2.367000e+03</td>\n",
              "      <td>1.988000e+03</td>\n",
              "      <td>4.000000e+00</td>\n",
              "      <td>7.000000e+00</td>\n",
              "    </tr>\n",
              "    <tr>\n",
              "      <th>75%</th>\n",
              "      <td>9.844000e+04</td>\n",
              "      <td>2.076000e+03</td>\n",
              "      <td>2.412000e+03</td>\n",
              "      <td>2.032000e+03</td>\n",
              "      <td>7.000000e+00</td>\n",
              "      <td>1.100000e+01</td>\n",
              "    </tr>\n",
              "    <tr>\n",
              "      <th>max</th>\n",
              "      <td>1.667400e+05</td>\n",
              "      <td>3.828000e+03</td>\n",
              "      <td>4.095000e+03</td>\n",
              "      <td>4.095000e+03</td>\n",
              "      <td>7.000000e+00</td>\n",
              "      <td>1.500000e+01</td>\n",
              "    </tr>\n",
              "  </tbody>\n",
              "</table>\n",
              "</div>"
            ],
            "text/plain": [
              "             number             x  ...      activity         label\n",
              "count  1.923177e+06  1.923177e+06  ...  1.923177e+06  1.923177e+06\n",
              "mean   6.715608e+04  1.987479e+03  ...  3.890407e+00  7.511287e+00\n",
              "std    4.148245e+04  1.113408e+02  ...  2.439785e+00  4.175452e+00\n",
              "min    0.000000e+00  2.820000e+02  ...  1.000000e+00  1.000000e+00\n",
              "25%    3.205200e+04  1.904000e+03  ...  1.000000e+00  4.000000e+00\n",
              "50%    6.433400e+04  1.992000e+03  ...  4.000000e+00  7.000000e+00\n",
              "75%    9.844000e+04  2.076000e+03  ...  7.000000e+00  1.100000e+01\n",
              "max    1.667400e+05  3.828000e+03  ...  7.000000e+00  1.500000e+01\n",
              "\n",
              "[8 rows x 6 columns]"
            ]
          },
          "metadata": {
            "tags": []
          },
          "execution_count": 11
        }
      ]
    },
    {
      "cell_type": "code",
      "metadata": {
        "id": "z8UFdyOW55hz",
        "colab_type": "code",
        "colab": {}
      },
      "source": [
        "from sklearn.preprocessing import StandardScaler\n",
        "import random\n",
        "df_train = data[data['label'] == 1]\n",
        "df_test = data[data['label'] == 7]\n",
        "\n",
        "train_data = df_train[['x','y','z']]\n",
        "test_data = df_test[['x','y','z']]\n",
        "\n",
        "scaler = StandardScaler()\n",
        "train_data_scaled = scaler.fit_transform(train_data)\n",
        "test_data_scaled = scaler.fit_transform(test_data)\n",
        "\n",
        "# Train the model on the 50000 samples and test it on 10000\n",
        "train_split = random.choices(train_data_scaled, k=50000)\n",
        "test_split = random.choices(test_data_scaled, k=10000)"
      ],
      "execution_count": 0,
      "outputs": []
    },
    {
      "cell_type": "code",
      "metadata": {
        "id": "V8uR60pk7a1C",
        "colab_type": "code",
        "outputId": "59fefa1a-ba9a-4845-fe42-58faad3a7728",
        "colab": {
          "base_uri": "https://localhost:8080/",
          "height": 68
        }
      },
      "source": [
        "%%time\n",
        "from sklearn import svm\n",
        "clf = svm.OneClassSVM(nu=0.1, kernel=\"rbf\", gamma=0.1)\n",
        "clf.fit(train_split)\n",
        "\n",
        "pred_test = clf.predict(test_split)\n",
        "n_error_test = pred_test[pred_test == -1].size\n",
        "print (\"Error rate on trainee 7 is {}\".format(n_error_test/len(pred_test)))"
      ],
      "execution_count": 13,
      "outputs": [
        {
          "output_type": "stream",
          "text": [
            "Error rate on trainee 7 is 0.2576\n",
            "CPU times: user 23.4 s, sys: 207 ms, total: 23.6 s\n",
            "Wall time: 23.7 s\n"
          ],
          "name": "stdout"
        }
      ]
    },
    {
      "cell_type": "code",
      "metadata": {
        "id": "Mi56LB0Q8KaC",
        "colab_type": "code",
        "colab": {}
      },
      "source": [
        "data_scaled = scaler.fit_transform(data[['x','y','z']])\n",
        "data['x-scaled'] = data_scaled[:,0]\n",
        "data['y-scaled'] = data_scaled[:,1]\n",
        "data['z-scaled'] = data_scaled[:,2]"
      ],
      "execution_count": 0,
      "outputs": []
    },
    {
      "cell_type": "code",
      "metadata": {
        "id": "KQV6al6m8b97",
        "colab_type": "code",
        "outputId": "8fb21622-a8c0-41bf-da22-cfd95b59f4a2",
        "colab": {
          "base_uri": "https://localhost:8080/",
          "height": 204
        }
      },
      "source": [
        "data.head()"
      ],
      "execution_count": 15,
      "outputs": [
        {
          "output_type": "execute_result",
          "data": {
            "text/html": [
              "<div>\n",
              "<style scoped>\n",
              "    .dataframe tbody tr th:only-of-type {\n",
              "        vertical-align: middle;\n",
              "    }\n",
              "\n",
              "    .dataframe tbody tr th {\n",
              "        vertical-align: top;\n",
              "    }\n",
              "\n",
              "    .dataframe thead th {\n",
              "        text-align: right;\n",
              "    }\n",
              "</style>\n",
              "<table border=\"1\" class=\"dataframe\">\n",
              "  <thead>\n",
              "    <tr style=\"text-align: right;\">\n",
              "      <th></th>\n",
              "      <th>number</th>\n",
              "      <th>x</th>\n",
              "      <th>y</th>\n",
              "      <th>z</th>\n",
              "      <th>activity</th>\n",
              "      <th>label</th>\n",
              "      <th>x-scaled</th>\n",
              "      <th>y-scaled</th>\n",
              "      <th>z-scaled</th>\n",
              "    </tr>\n",
              "  </thead>\n",
              "  <tbody>\n",
              "    <tr>\n",
              "      <th>0</th>\n",
              "      <td>0.0</td>\n",
              "      <td>1502</td>\n",
              "      <td>2215</td>\n",
              "      <td>2153</td>\n",
              "      <td>1</td>\n",
              "      <td>1</td>\n",
              "      <td>-4.360297</td>\n",
              "      <td>-1.669479</td>\n",
              "      <td>1.931520</td>\n",
              "    </tr>\n",
              "    <tr>\n",
              "      <th>1</th>\n",
              "      <td>1.0</td>\n",
              "      <td>1667</td>\n",
              "      <td>2072</td>\n",
              "      <td>2047</td>\n",
              "      <td>1</td>\n",
              "      <td>1</td>\n",
              "      <td>-2.878360</td>\n",
              "      <td>-3.096472</td>\n",
              "      <td>0.809722</td>\n",
              "    </tr>\n",
              "    <tr>\n",
              "      <th>2</th>\n",
              "      <td>2.0</td>\n",
              "      <td>1611</td>\n",
              "      <td>1957</td>\n",
              "      <td>1906</td>\n",
              "      <td>1</td>\n",
              "      <td>1</td>\n",
              "      <td>-3.381321</td>\n",
              "      <td>-4.244054</td>\n",
              "      <td>-0.682480</td>\n",
              "    </tr>\n",
              "    <tr>\n",
              "      <th>3</th>\n",
              "      <td>3.0</td>\n",
              "      <td>1601</td>\n",
              "      <td>1939</td>\n",
              "      <td>1831</td>\n",
              "      <td>1</td>\n",
              "      <td>1</td>\n",
              "      <td>-3.471135</td>\n",
              "      <td>-4.423675</td>\n",
              "      <td>-1.476205</td>\n",
              "    </tr>\n",
              "    <tr>\n",
              "      <th>4</th>\n",
              "      <td>4.0</td>\n",
              "      <td>1643</td>\n",
              "      <td>1965</td>\n",
              "      <td>1879</td>\n",
              "      <td>1</td>\n",
              "      <td>1</td>\n",
              "      <td>-3.093915</td>\n",
              "      <td>-4.164222</td>\n",
              "      <td>-0.968221</td>\n",
              "    </tr>\n",
              "  </tbody>\n",
              "</table>\n",
              "</div>"
            ],
            "text/plain": [
              "   number     x     y     z  activity  label  x-scaled  y-scaled  z-scaled\n",
              "0     0.0  1502  2215  2153         1      1 -4.360297 -1.669479  1.931520\n",
              "1     1.0  1667  2072  2047         1      1 -2.878360 -3.096472  0.809722\n",
              "2     2.0  1611  1957  1906         1      1 -3.381321 -4.244054 -0.682480\n",
              "3     3.0  1601  1939  1831         1      1 -3.471135 -4.423675 -1.476205\n",
              "4     4.0  1643  1965  1879         1      1 -3.093915 -4.164222 -0.968221"
            ]
          },
          "metadata": {
            "tags": []
          },
          "execution_count": 15
        }
      ]
    },
    {
      "cell_type": "code",
      "metadata": {
        "id": "Jw3Fb9htJiUK",
        "colab_type": "code",
        "outputId": "775fab2c-82c7-4fed-bfda-255ba58500bd",
        "colab": {
          "base_uri": "https://localhost:8080/",
          "height": 187
        }
      },
      "source": [
        "# Create train set by random choice (k = 50000).\n",
        "df_train = data[data['label'] == 1].loc[:,'x-scaled':'z-scaled'].values\n",
        "train_split = random.choices(df_train, k = 50000)\n",
        "\n",
        "test_dict = {}\n",
        "for i in range(1,16):\n",
        "    df_test = random.choices(data[data['label'] == i][['x-scaled','y-scaled','z-scaled']].values, k = 10000)\n",
        "    test_dict[i] = df_test\n",
        "print (test_dict) "
      ],
      "execution_count": 16,
      "outputs": [
        {
          "output_type": "stream",
          "text": [
            "IOPub data rate exceeded.\n",
            "The notebook server will temporarily stop sending output\n",
            "to the client in order to avoid crashing it.\n",
            "To change this limit, set the config variable\n",
            "`--NotebookApp.iopub_data_rate_limit`.\n",
            "\n",
            "Current values:\n",
            "NotebookApp.iopub_data_rate_limit=1000000.0 (bytes/sec)\n",
            "NotebookApp.rate_limit_window=3.0 (secs)\n",
            "\n"
          ],
          "name": "stderr"
        }
      ]
    },
    {
      "cell_type": "code",
      "metadata": {
        "id": "IADLwb5nJvrA",
        "colab_type": "code",
        "colab": {
          "base_uri": "https://localhost:8080/",
          "height": 289
        },
        "outputId": "cafd29b0-bb37-4692-a8ec-fb6641036a03"
      },
      "source": [
        "# Run OneClassSVM per each testee.\n",
        "from time import time\n",
        "t0 = time()\n",
        "clf = svm.OneClassSVM(nu=0.1, kernel=\"rbf\", gamma=0.1)\n",
        "clf.fit(df_train)\n",
        "for key, value in test_dict.items():\n",
        "    pred = clf.predict(value)\n",
        "    n_error_test = pred[pred == -1].size\n",
        "    print (\"The {} testee has error rate {}\".format(key, n_error_test/len(pred) * 100))\n",
        "print (\"time on training and prediction:\", round(time()-t0, 3), \"s\")  "
      ],
      "execution_count": 17,
      "outputs": [
        {
          "output_type": "stream",
          "text": [
            "The 1 testee has error rate 9.68\n",
            "The 2 testee has error rate 99.77000000000001\n",
            "The 3 testee has error rate 92.85\n",
            "The 4 testee has error rate 91.71000000000001\n",
            "The 5 testee has error rate 57.28\n",
            "The 6 testee has error rate 99.03999999999999\n",
            "The 7 testee has error rate 99.98\n",
            "The 8 testee has error rate 88.64\n",
            "The 9 testee has error rate 99.91\n",
            "The 10 testee has error rate 99.95\n",
            "The 11 testee has error rate 59.98\n",
            "The 12 testee has error rate 62.849999999999994\n",
            "The 13 testee has error rate 82.38\n",
            "The 14 testee has error rate 37.22\n",
            "The 15 testee has error rate 99.72\n",
            "time on training and prediction: 312.402 s\n"
          ],
          "name": "stdout"
        }
      ]
    },
    {
      "cell_type": "code",
      "metadata": {
        "id": "2kRYZPuaJ5pA",
        "colab_type": "code",
        "colab": {
          "base_uri": "https://localhost:8080/",
          "height": 34
        },
        "outputId": "98b89603-dc8e-42e0-d0aa-5fbf4fca63aa"
      },
      "source": [
        "# Features and labels extraction from scaled data\n",
        "features = data[['x-scaled','y-scaled','z-scaled']]\n",
        "labels = data['label']\n",
        "print(len(features), len(labels))"
      ],
      "execution_count": 18,
      "outputs": [
        {
          "output_type": "stream",
          "text": [
            "1923177 1923177\n"
          ],
          "name": "stdout"
        }
      ]
    },
    {
      "cell_type": "code",
      "metadata": {
        "id": "Bhn4EsRUKLzr",
        "colab_type": "code",
        "colab": {
          "base_uri": "https://localhost:8080/",
          "height": 34
        },
        "outputId": "ffea29c0-9310-429f-a03d-5a0fb911b594"
      },
      "source": [
        "from sklearn.model_selection import train_test_split\n",
        "# Split the dataset into the training set and test subsets.\n",
        "X_train, X_test, y_train, y_test = train_test_split(features, labels, test_size=0.3, random_state=0)\n",
        "print(X_train.shape, X_test.shape, y_train.shape, y_test.shape)"
      ],
      "execution_count": 19,
      "outputs": [
        {
          "output_type": "stream",
          "text": [
            "(1346223, 3) (576954, 3) (1346223,) (576954,)\n"
          ],
          "name": "stdout"
        }
      ]
    },
    {
      "cell_type": "code",
      "metadata": {
        "id": "oTQ5qP77Nigw",
        "colab_type": "code",
        "colab": {}
      },
      "source": [
        "from sklearn.metrics import accuracy_score\n",
        "def scoring(X,pred):\n",
        "    result = 'Accuracy score is {0:.2f}%'.format(accuracy_score(X, pred)*100) \n",
        "    return result"
      ],
      "execution_count": 0,
      "outputs": []
    },
    {
      "cell_type": "code",
      "metadata": {
        "id": "_OFJvLSvNjRd",
        "colab_type": "code",
        "colab": {
          "base_uri": "https://localhost:8080/",
          "height": 51
        },
        "outputId": "ac3d1eb5-8f81-476d-f6f0-4e3e62b46313"
      },
      "source": [
        "from time import time\n",
        "from sklearn.naive_bayes import GaussianNB\n",
        "t0 = time()\n",
        "clf = GaussianNB()\n",
        "clf.fit(X_train,y_train)\n",
        "prediction = clf.predict(X_test)\n",
        "print (\"time on training and prediction:\", round(time()-t0, 3), \"s\")  \n",
        "print (scoring(prediction, y_test))"
      ],
      "execution_count": 21,
      "outputs": [
        {
          "output_type": "stream",
          "text": [
            "time on training and prediction: 0.658 s\n",
            "Accuracy score is 49.76%\n"
          ],
          "name": "stdout"
        }
      ]
    },
    {
      "cell_type": "code",
      "metadata": {
        "id": "qz5b8wr7NmjQ",
        "colab_type": "code",
        "colab": {
          "base_uri": "https://localhost:8080/",
          "height": 51
        },
        "outputId": "53b3e4e5-cb43-4336-99cf-4ddb6e3f7619"
      },
      "source": [
        "from sklearn.svm import SVC\n",
        "t0 = time()\n",
        "clf = SVC()\n",
        "clf.fit(X_train[:30000],y_train[:30000])\n",
        "prediction = clf.predict(X_test[:10000])\n",
        "print (\"time on training and prediction:\", round(time()-t0, 3), \"s\")  \n",
        "print (scoring(prediction, y_test[:10000]))"
      ],
      "execution_count": 22,
      "outputs": [
        {
          "output_type": "stream",
          "text": [
            "time on training and prediction: 18.146 s\n",
            "Accuracy score is 72.36%\n"
          ],
          "name": "stdout"
        }
      ]
    },
    {
      "cell_type": "code",
      "metadata": {
        "id": "aw-HQu3RNrQB",
        "colab_type": "code",
        "colab": {
          "base_uri": "https://localhost:8080/",
          "height": 102
        },
        "outputId": "4844534a-6764-4bf7-9fd2-69c6230d1fc6"
      },
      "source": [
        "from sklearn.model_selection import GridSearchCV\n",
        "parameters = {'kernel':('linear', 'rbf'), 'C':[1, 10, 100, 1000, 10000], 'gamma': [0.1, 0.01, 0.001, 0.0001, 0.00001]}\n",
        "t0 = time()\n",
        "clf = GridSearchCV(estimator=svm.SVC(), param_grid=parameters, n_jobs=-1)\n",
        "clf.fit(X_train[:1000],y_train[:1000]) \n",
        "print (\"time on parameters selection:\", round(time()-t0, 3), \"s\")  \n",
        "print('Best score for data1:', clf.best_score_) \n",
        "print('Best C:',clf.best_estimator_.C) \n",
        "print('Best Kernel:',clf.best_estimator_.kernel)\n",
        "print('Best Gamma:',clf.best_estimator_.gamma)"
      ],
      "execution_count": 23,
      "outputs": [
        {
          "output_type": "stream",
          "text": [
            "time on parameters selection: 245.289 s\n",
            "Best score for data1: 0.681\n",
            "Best C: 10000\n",
            "Best Kernel: rbf\n",
            "Best Gamma: 0.1\n"
          ],
          "name": "stdout"
        }
      ]
    },
    {
      "cell_type": "code",
      "metadata": {
        "id": "8Sn-w42FNvim",
        "colab_type": "code",
        "colab": {
          "base_uri": "https://localhost:8080/",
          "height": 51
        },
        "outputId": "b725bc7a-41b8-4bc5-af20-3962023494f5"
      },
      "source": [
        "from sklearn import tree\n",
        "t0 = time()\n",
        "clf = tree.DecisionTreeClassifier()\n",
        "clf.fit(X_train,y_train)\n",
        "prediction = clf.predict(X_test)\n",
        "print (scoring(prediction, y_test))\n",
        "print (\"time on training and prediction:\", round(time()-t0, 3), \"s\")  "
      ],
      "execution_count": 24,
      "outputs": [
        {
          "output_type": "stream",
          "text": [
            "Accuracy score is 73.23%\n",
            "time on training and prediction: 9.077 s\n"
          ],
          "name": "stdout"
        }
      ]
    },
    {
      "cell_type": "code",
      "metadata": {
        "id": "iuKHgLcINyxC",
        "colab_type": "code",
        "colab": {
          "base_uri": "https://localhost:8080/",
          "height": 195
        },
        "outputId": "f8bd2985-d5bc-49d6-b55a-54bbde447790"
      },
      "source": [
        "from xgboost import XGBClassifier\n",
        "t0 = time()\n",
        "model = XGBClassifier()\n",
        "model.fit(X_train[:2000], y_train[:2000])\n",
        "print (model)\n",
        "pred = model.predict(X_test[:500])\n",
        "print (\"time on training and prediction:\", round(time()-t0, 3), \"s\")\n",
        "print (scoring(pred, y_test[:500]))"
      ],
      "execution_count": 25,
      "outputs": [
        {
          "output_type": "stream",
          "text": [
            "XGBClassifier(base_score=0.5, booster='gbtree', colsample_bylevel=1,\n",
            "              colsample_bynode=1, colsample_bytree=1, gamma=0,\n",
            "              learning_rate=0.1, max_delta_step=0, max_depth=3,\n",
            "              min_child_weight=1, missing=None, n_estimators=100, n_jobs=1,\n",
            "              nthread=None, objective='multi:softprob', random_state=0,\n",
            "              reg_alpha=0, reg_lambda=1, scale_pos_weight=1, seed=None,\n",
            "              silent=None, subsample=1, verbosity=1)\n",
            "time on training and prediction: 0.976 s\n",
            "Accuracy score is 70.00%\n"
          ],
          "name": "stdout"
        }
      ]
    },
    {
      "cell_type": "code",
      "metadata": {
        "id": "_HKnSmy-PV6J",
        "colab_type": "code",
        "colab": {
          "base_uri": "https://localhost:8080/",
          "height": 102
        },
        "outputId": "a023ad50-6e15-48bb-db4f-de14186529a9"
      },
      "source": [
        "#XGBoost-best params\n",
        "import warnings\n",
        "from sklearn.model_selection import RandomizedSearchCV\n",
        "warnings.simplefilter('ignore', DeprecationWarning)\n",
        "# Create the parameter grid: gbm_param_grid\n",
        "gbm_param_grid = {\n",
        "    'n_estimators': range(8, 20),\n",
        "    'max_depth': range(6, 10),\n",
        "    'learning_rate': [.4, .45, .5, .55, .6],\n",
        "    'colsample_bytree': [.6, .7, .8, .9, 1]\n",
        "}\n",
        "\n",
        "# Instantiate the regressor: gbm\n",
        "gbm = XGBClassifier(n_estimators=10)\n",
        "\n",
        "# Perform random search: grid_mse\n",
        "xgb_random = RandomizedSearchCV(param_distributions=gbm_param_grid,\n",
        "                                    estimator = gbm, scoring = \"accuracy\",\n",
        "                                    verbose = 1, n_iter = 50, cv = 4)\n",
        "\n",
        "# Fit randomized_mse to the data\n",
        "xgb_random.fit(X_train[:10000], y_train[:10000])\n",
        "\n",
        "# Print the best parameters and lowest RMSE\n",
        "print(\"Best parameters found: \", xgb_random.best_params_)\n",
        "print(\"Best accuracy found: \", xgb_random.best_score_)"
      ],
      "execution_count": 26,
      "outputs": [
        {
          "output_type": "stream",
          "text": [
            "Fitting 4 folds for each of 50 candidates, totalling 200 fits\n"
          ],
          "name": "stdout"
        },
        {
          "output_type": "stream",
          "text": [
            "[Parallel(n_jobs=1)]: Using backend SequentialBackend with 1 concurrent workers.\n",
            "[Parallel(n_jobs=1)]: Done 200 out of 200 | elapsed:  2.8min finished\n"
          ],
          "name": "stderr"
        },
        {
          "output_type": "stream",
          "text": [
            "Best parameters found:  {'n_estimators': 17, 'max_depth': 7, 'learning_rate': 0.55, 'colsample_bytree': 1}\n",
            "Best accuracy found:  0.7613000000000001\n"
          ],
          "name": "stdout"
        }
      ]
    },
    {
      "cell_type": "code",
      "metadata": {
        "id": "KVKR6RnoPakS",
        "colab_type": "code",
        "colab": {
          "base_uri": "https://localhost:8080/",
          "height": 223
        },
        "outputId": "eda08898-0ace-46eb-dcbe-07805d238515"
      },
      "source": [
        "data.head()"
      ],
      "execution_count": 27,
      "outputs": [
        {
          "output_type": "execute_result",
          "data": {
            "text/html": [
              "<div>\n",
              "<style scoped>\n",
              "    .dataframe tbody tr th:only-of-type {\n",
              "        vertical-align: middle;\n",
              "    }\n",
              "\n",
              "    .dataframe tbody tr th {\n",
              "        vertical-align: top;\n",
              "    }\n",
              "\n",
              "    .dataframe thead th {\n",
              "        text-align: right;\n",
              "    }\n",
              "</style>\n",
              "<table border=\"1\" class=\"dataframe\">\n",
              "  <thead>\n",
              "    <tr style=\"text-align: right;\">\n",
              "      <th></th>\n",
              "      <th>number</th>\n",
              "      <th>x</th>\n",
              "      <th>y</th>\n",
              "      <th>z</th>\n",
              "      <th>activity</th>\n",
              "      <th>label</th>\n",
              "      <th>x-scaled</th>\n",
              "      <th>y-scaled</th>\n",
              "      <th>z-scaled</th>\n",
              "    </tr>\n",
              "  </thead>\n",
              "  <tbody>\n",
              "    <tr>\n",
              "      <th>0</th>\n",
              "      <td>0.0</td>\n",
              "      <td>1502</td>\n",
              "      <td>2215</td>\n",
              "      <td>2153</td>\n",
              "      <td>1</td>\n",
              "      <td>1</td>\n",
              "      <td>-4.360297</td>\n",
              "      <td>-1.669479</td>\n",
              "      <td>1.931520</td>\n",
              "    </tr>\n",
              "    <tr>\n",
              "      <th>1</th>\n",
              "      <td>1.0</td>\n",
              "      <td>1667</td>\n",
              "      <td>2072</td>\n",
              "      <td>2047</td>\n",
              "      <td>1</td>\n",
              "      <td>1</td>\n",
              "      <td>-2.878360</td>\n",
              "      <td>-3.096472</td>\n",
              "      <td>0.809722</td>\n",
              "    </tr>\n",
              "    <tr>\n",
              "      <th>2</th>\n",
              "      <td>2.0</td>\n",
              "      <td>1611</td>\n",
              "      <td>1957</td>\n",
              "      <td>1906</td>\n",
              "      <td>1</td>\n",
              "      <td>1</td>\n",
              "      <td>-3.381321</td>\n",
              "      <td>-4.244054</td>\n",
              "      <td>-0.682480</td>\n",
              "    </tr>\n",
              "    <tr>\n",
              "      <th>3</th>\n",
              "      <td>3.0</td>\n",
              "      <td>1601</td>\n",
              "      <td>1939</td>\n",
              "      <td>1831</td>\n",
              "      <td>1</td>\n",
              "      <td>1</td>\n",
              "      <td>-3.471135</td>\n",
              "      <td>-4.423675</td>\n",
              "      <td>-1.476205</td>\n",
              "    </tr>\n",
              "    <tr>\n",
              "      <th>4</th>\n",
              "      <td>4.0</td>\n",
              "      <td>1643</td>\n",
              "      <td>1965</td>\n",
              "      <td>1879</td>\n",
              "      <td>1</td>\n",
              "      <td>1</td>\n",
              "      <td>-3.093915</td>\n",
              "      <td>-4.164222</td>\n",
              "      <td>-0.968221</td>\n",
              "    </tr>\n",
              "  </tbody>\n",
              "</table>\n",
              "</div>"
            ],
            "text/plain": [
              "   number     x     y     z  activity  label  x-scaled  y-scaled  z-scaled\n",
              "0     0.0  1502  2215  2153         1      1 -4.360297 -1.669479  1.931520\n",
              "1     1.0  1667  2072  2047         1      1 -2.878360 -3.096472  0.809722\n",
              "2     2.0  1611  1957  1906         1      1 -3.381321 -4.244054 -0.682480\n",
              "3     3.0  1601  1939  1831         1      1 -3.471135 -4.423675 -1.476205\n",
              "4     4.0  1643  1965  1879         1      1 -3.093915 -4.164222 -0.968221"
            ]
          },
          "metadata": {
            "tags": []
          },
          "execution_count": 27
        }
      ]
    },
    {
      "cell_type": "code",
      "metadata": {
        "id": "Cer13AiEQdo_",
        "colab_type": "code",
        "colab": {
          "base_uri": "https://localhost:8080/",
          "height": 102
        },
        "outputId": "63f6fd03-3180-414a-8287-cdbfaf154d5e"
      },
      "source": [
        "# Create n-feature from x,y,z features as additional column.\n",
        "data['N-feature'] = ((data['x-scaled']**2 + data['y-scaled']**2 + data['z-scaled']**2) / 3)**0.5\n",
        "data['N-feature'][:4]"
      ],
      "execution_count": 28,
      "outputs": [
        {
          "output_type": "execute_result",
          "data": {
            "text/plain": [
              "0    2.917197\n",
              "1    2.485206\n",
              "2    3.157589\n",
              "3    3.356430\n",
              "Name: N-feature, dtype: float64"
            ]
          },
          "metadata": {
            "tags": []
          },
          "execution_count": 28
        }
      ]
    },
    {
      "cell_type": "code",
      "metadata": {
        "id": "jYVsILoHQiSm",
        "colab_type": "code",
        "colab": {
          "base_uri": "https://localhost:8080/",
          "height": 204
        },
        "outputId": "78843d1b-64f0-441c-d2a3-2a66a8a4b478"
      },
      "source": [
        "data.head()"
      ],
      "execution_count": 29,
      "outputs": [
        {
          "output_type": "execute_result",
          "data": {
            "text/html": [
              "<div>\n",
              "<style scoped>\n",
              "    .dataframe tbody tr th:only-of-type {\n",
              "        vertical-align: middle;\n",
              "    }\n",
              "\n",
              "    .dataframe tbody tr th {\n",
              "        vertical-align: top;\n",
              "    }\n",
              "\n",
              "    .dataframe thead th {\n",
              "        text-align: right;\n",
              "    }\n",
              "</style>\n",
              "<table border=\"1\" class=\"dataframe\">\n",
              "  <thead>\n",
              "    <tr style=\"text-align: right;\">\n",
              "      <th></th>\n",
              "      <th>number</th>\n",
              "      <th>x</th>\n",
              "      <th>y</th>\n",
              "      <th>z</th>\n",
              "      <th>activity</th>\n",
              "      <th>label</th>\n",
              "      <th>x-scaled</th>\n",
              "      <th>y-scaled</th>\n",
              "      <th>z-scaled</th>\n",
              "      <th>N-feature</th>\n",
              "    </tr>\n",
              "  </thead>\n",
              "  <tbody>\n",
              "    <tr>\n",
              "      <th>0</th>\n",
              "      <td>0.0</td>\n",
              "      <td>1502</td>\n",
              "      <td>2215</td>\n",
              "      <td>2153</td>\n",
              "      <td>1</td>\n",
              "      <td>1</td>\n",
              "      <td>-4.360297</td>\n",
              "      <td>-1.669479</td>\n",
              "      <td>1.931520</td>\n",
              "      <td>2.917197</td>\n",
              "    </tr>\n",
              "    <tr>\n",
              "      <th>1</th>\n",
              "      <td>1.0</td>\n",
              "      <td>1667</td>\n",
              "      <td>2072</td>\n",
              "      <td>2047</td>\n",
              "      <td>1</td>\n",
              "      <td>1</td>\n",
              "      <td>-2.878360</td>\n",
              "      <td>-3.096472</td>\n",
              "      <td>0.809722</td>\n",
              "      <td>2.485206</td>\n",
              "    </tr>\n",
              "    <tr>\n",
              "      <th>2</th>\n",
              "      <td>2.0</td>\n",
              "      <td>1611</td>\n",
              "      <td>1957</td>\n",
              "      <td>1906</td>\n",
              "      <td>1</td>\n",
              "      <td>1</td>\n",
              "      <td>-3.381321</td>\n",
              "      <td>-4.244054</td>\n",
              "      <td>-0.682480</td>\n",
              "      <td>3.157589</td>\n",
              "    </tr>\n",
              "    <tr>\n",
              "      <th>3</th>\n",
              "      <td>3.0</td>\n",
              "      <td>1601</td>\n",
              "      <td>1939</td>\n",
              "      <td>1831</td>\n",
              "      <td>1</td>\n",
              "      <td>1</td>\n",
              "      <td>-3.471135</td>\n",
              "      <td>-4.423675</td>\n",
              "      <td>-1.476205</td>\n",
              "      <td>3.356430</td>\n",
              "    </tr>\n",
              "    <tr>\n",
              "      <th>4</th>\n",
              "      <td>4.0</td>\n",
              "      <td>1643</td>\n",
              "      <td>1965</td>\n",
              "      <td>1879</td>\n",
              "      <td>1</td>\n",
              "      <td>1</td>\n",
              "      <td>-3.093915</td>\n",
              "      <td>-4.164222</td>\n",
              "      <td>-0.968221</td>\n",
              "      <td>3.046884</td>\n",
              "    </tr>\n",
              "  </tbody>\n",
              "</table>\n",
              "</div>"
            ],
            "text/plain": [
              "   number     x     y     z  ...  x-scaled  y-scaled  z-scaled  N-feature\n",
              "0     0.0  1502  2215  2153  ... -4.360297 -1.669479  1.931520   2.917197\n",
              "1     1.0  1667  2072  2047  ... -2.878360 -3.096472  0.809722   2.485206\n",
              "2     2.0  1611  1957  1906  ... -3.381321 -4.244054 -0.682480   3.157589\n",
              "3     3.0  1601  1939  1831  ... -3.471135 -4.423675 -1.476205   3.356430\n",
              "4     4.0  1643  1965  1879  ... -3.093915 -4.164222 -0.968221   3.046884\n",
              "\n",
              "[5 rows x 10 columns]"
            ]
          },
          "metadata": {
            "tags": []
          },
          "execution_count": 29
        }
      ]
    },
    {
      "cell_type": "code",
      "metadata": {
        "id": "-q1VKTjoQjiX",
        "colab_type": "code",
        "colab": {
          "base_uri": "https://localhost:8080/",
          "height": 34
        },
        "outputId": "8a283a7d-a28c-4d01-9509-7da80578853a"
      },
      "source": [
        "features = data['N-feature']\n",
        "labels = data['label']\n",
        "\n",
        "# Split the dataset into the training set and test subsets.\n",
        "X_train_N, X_test_N, y_train_N, y_test_N = train_test_split(features, labels, test_size=0.3, random_state=0)\n",
        "print(X_train.shape, X_test.shape, y_train.shape, y_test.shape)"
      ],
      "execution_count": 30,
      "outputs": [
        {
          "output_type": "stream",
          "text": [
            "(1346223, 3) (576954, 3) (1346223,) (576954,)\n"
          ],
          "name": "stdout"
        }
      ]
    },
    {
      "cell_type": "code",
      "metadata": {
        "id": "WRWVL0HUQ0fj",
        "colab_type": "code",
        "colab": {
          "base_uri": "https://localhost:8080/",
          "height": 425
        },
        "outputId": "a57f3568-07af-4130-db92-4452b76e1f89"
      },
      "source": [
        "from keras.preprocessing import sequence\n",
        "from keras.utils import np_utils\n",
        "from keras.models import Sequential\n",
        "from keras.layers.core import Dense, Dropout, Activation\n",
        "from keras.layers.embeddings import Embedding\n",
        "from keras.layers.recurrent import LSTM\n",
        "#MLP for binary classification\n",
        "t0 = time()\n",
        "model = Sequential()\n",
        "model.add(Dense(32, input_dim=1, activation='relu'))\n",
        "model.add(Dropout(0.5))\n",
        "model.add(Dense(32, activation='relu'))\n",
        "model.add(Dropout(0.5))\n",
        "model.add(Dense(1, activation='sigmoid'))\n",
        "\n",
        "model.compile(loss='binary_crossentropy',\n",
        "              optimizer='rmsprop',\n",
        "              metrics=['accuracy'])\n",
        "\n",
        "model.fit(X_train_N[:200000], y_train_N[:200000],\n",
        "          epochs=10,\n",
        "          batch_size=128)\n",
        "score = model.evaluate(X_test_N[:50000], y_test_N[:50000], batch_size=128)\n",
        "print (score)\n",
        "print (\"time on training and scoring:\", round(time()-t0, 3), \"s\")"
      ],
      "execution_count": 31,
      "outputs": [
        {
          "output_type": "stream",
          "text": [
            "Using TensorFlow backend.\n"
          ],
          "name": "stderr"
        },
        {
          "output_type": "stream",
          "text": [
            "Epoch 1/10\n",
            "200000/200000 [==============================] - 3s 13us/step - loss: -3083.6764 - accuracy: 0.0836\n",
            "Epoch 2/10\n",
            "200000/200000 [==============================] - 2s 11us/step - loss: -39882.2035 - accuracy: 0.0838\n",
            "Epoch 3/10\n",
            "200000/200000 [==============================] - 2s 11us/step - loss: -165271.6754 - accuracy: 0.0838\n",
            "Epoch 4/10\n",
            "200000/200000 [==============================] - 2s 11us/step - loss: -436652.7599 - accuracy: 0.0838\n",
            "Epoch 5/10\n",
            "200000/200000 [==============================] - 2s 12us/step - loss: -914868.2106 - accuracy: 0.0838\n",
            "Epoch 6/10\n",
            "200000/200000 [==============================] - 2s 11us/step - loss: -1656559.1082 - accuracy: 0.0838\n",
            "Epoch 7/10\n",
            "200000/200000 [==============================] - 2s 11us/step - loss: -2716687.2599 - accuracy: 0.0838\n",
            "Epoch 8/10\n",
            "200000/200000 [==============================] - 2s 11us/step - loss: -4168031.7736 - accuracy: 0.0838\n",
            "Epoch 9/10\n",
            "200000/200000 [==============================] - 2s 11us/step - loss: -6030858.4782 - accuracy: 0.0838\n",
            "Epoch 10/10\n",
            "200000/200000 [==============================] - 2s 11us/step - loss: -8416309.5312 - accuracy: 0.0838\n",
            "50000/50000 [==============================] - 0s 5us/step\n",
            "[-9802962.2608, 0.08529999852180481]\n",
            "time on training and scoring: 23.864 s\n"
          ],
          "name": "stdout"
        }
      ]
    },
    {
      "cell_type": "code",
      "metadata": {
        "id": "nAwqKzZVQ9XH",
        "colab_type": "code",
        "colab": {
          "base_uri": "https://localhost:8080/",
          "height": 462
        },
        "outputId": "a8653847-75a6-4001-d98d-694e6586e849"
      },
      "source": [
        "#Sequence classification with LSTM\n",
        "max_features = 100\n",
        "t0 = time()\n",
        "model = Sequential()\n",
        "model.add(Embedding(max_features, output_dim=256))\n",
        "model.add(LSTM(128))\n",
        "model.add(Dropout(0.5))\n",
        "model.add(Dense(1, activation='sigmoid'))\n",
        "\n",
        "model.compile(loss='binary_crossentropy',\n",
        "              optimizer='rmsprop',\n",
        "              metrics=['accuracy'])\n",
        "\n",
        "model.fit(X_train_N[:20000], y_train_N[:20000], batch_size=16, epochs=10)\n",
        "score = model.evaluate(X_test_N[:5000], y_test_N[:5000], batch_size=16)\n",
        "print (score)\n",
        "print (\"time on training and scoring:\", round(time()-t0, 3), \"s\")"
      ],
      "execution_count": 32,
      "outputs": [
        {
          "output_type": "stream",
          "text": [
            "/usr/local/lib/python3.6/dist-packages/tensorflow/python/framework/indexed_slices.py:434: UserWarning: Converting sparse IndexedSlices to a dense Tensor of unknown shape. This may consume a large amount of memory.\n",
            "  \"Converting sparse IndexedSlices to a dense Tensor of unknown shape. \"\n"
          ],
          "name": "stderr"
        },
        {
          "output_type": "stream",
          "text": [
            "Epoch 1/10\n",
            "20000/20000 [==============================] - 7s 367us/step - loss: -464.9220 - accuracy: 0.0830\n",
            "Epoch 2/10\n",
            "20000/20000 [==============================] - 7s 368us/step - loss: -1226.6893 - accuracy: 0.0830\n",
            "Epoch 3/10\n",
            "20000/20000 [==============================] - 11s 564us/step - loss: -1984.0065 - accuracy: 0.0830\n",
            "Epoch 4/10\n",
            "20000/20000 [==============================] - 8s 379us/step - loss: -2743.4629 - accuracy: 0.0830\n",
            "Epoch 5/10\n",
            "20000/20000 [==============================] - 7s 350us/step - loss: -3498.6334 - accuracy: 0.0830\n",
            "Epoch 6/10\n",
            "20000/20000 [==============================] - 7s 357us/step - loss: -4262.4940 - accuracy: 0.0830\n",
            "Epoch 7/10\n",
            "20000/20000 [==============================] - 7s 355us/step - loss: -5013.1916 - accuracy: 0.0830\n",
            "Epoch 8/10\n",
            "20000/20000 [==============================] - 8s 383us/step - loss: -5777.7849 - accuracy: 0.0830\n",
            "Epoch 9/10\n",
            "20000/20000 [==============================] - 7s 370us/step - loss: -6535.6125 - accuracy: 0.0830\n",
            "Epoch 10/10\n",
            "20000/20000 [==============================] - 7s 367us/step - loss: -7288.3059 - accuracy: 0.0830\n",
            "5000/5000 [==============================] - 0s 71us/step\n",
            "[-7703.02964765625, 0.08179999887943268]\n",
            "time on training and scoring: 78.834 s\n"
          ],
          "name": "stdout"
        }
      ]
    },
    {
      "cell_type": "code",
      "metadata": {
        "id": "fUIlfAVWRFVR",
        "colab_type": "code",
        "colab": {
          "base_uri": "https://localhost:8080/",
          "height": 408
        },
        "outputId": "2e612a1e-6b38-4b2f-e703-0f00ee002adb"
      },
      "source": [
        "from keras.optimizers import SGD\n",
        "\n",
        "t0 = time()\n",
        "model = Sequential()\n",
        "# Dense(64) is a fully-connected layer with 64 hidden units.\n",
        "# in the first layer, you must specify the expected input data shape:\n",
        "# here, 1-dimensional vector.\n",
        "model.add(Dense(64, activation='relu', input_dim=1))\n",
        "model.add(Dropout(0.5))\n",
        "model.add(Dense(64, activation='relu'))\n",
        "model.add(Dropout(0.5))\n",
        "model.add(Dense(1, activation='softmax'))\n",
        "\n",
        "sgd = SGD(lr=0.01, decay=1e-6, momentum=0.9, nesterov=True)\n",
        "model.compile(loss='binary_crossentropy',\n",
        "              optimizer=sgd,\n",
        "              metrics=['accuracy'])\n",
        "\n",
        "model.fit(X_train_N[:200000], y_train_N[:200000],\n",
        "          epochs=10,\n",
        "          batch_size=128)\n",
        "score = model.evaluate(X_test_N[:50000], y_test_N[:50000], batch_size=128)\n",
        "print (score)\n",
        "print (\"time on training and scoring:\", round(time()-t0, 3), \"s\")"
      ],
      "execution_count": 33,
      "outputs": [
        {
          "output_type": "stream",
          "text": [
            "Epoch 1/10\n",
            "200000/200000 [==============================] - 3s 14us/step - loss: -99.8358 - accuracy: 0.0838\n",
            "Epoch 2/10\n",
            "200000/200000 [==============================] - 3s 14us/step - loss: -99.8358 - accuracy: 0.0838\n",
            "Epoch 3/10\n",
            "200000/200000 [==============================] - 3s 14us/step - loss: -99.8358 - accuracy: 0.0838\n",
            "Epoch 4/10\n",
            "200000/200000 [==============================] - 3s 14us/step - loss: -99.8358 - accuracy: 0.0838\n",
            "Epoch 5/10\n",
            "200000/200000 [==============================] - 3s 14us/step - loss: -99.8358 - accuracy: 0.0838\n",
            "Epoch 6/10\n",
            "200000/200000 [==============================] - 3s 14us/step - loss: -99.8358 - accuracy: 0.0838\n",
            "Epoch 7/10\n",
            "200000/200000 [==============================] - 3s 14us/step - loss: -99.8358 - accuracy: 0.0838\n",
            "Epoch 8/10\n",
            "200000/200000 [==============================] - 3s 14us/step - loss: -99.8358 - accuracy: 0.0838\n",
            "Epoch 9/10\n",
            "200000/200000 [==============================] - 3s 14us/step - loss: -99.8358 - accuracy: 0.0838\n",
            "Epoch 10/10\n",
            "200000/200000 [==============================] - 3s 13us/step - loss: -99.8358 - accuracy: 0.0838\n",
            "50000/50000 [==============================] - 0s 6us/step\n",
            "[-99.46560212646484, 0.08529999852180481]\n",
            "time on training and scoring: 28.294 s\n"
          ],
          "name": "stdout"
        }
      ]
    },
    {
      "cell_type": "code",
      "metadata": {
        "id": "ffuTBsbQROPK",
        "colab_type": "code",
        "colab": {
          "base_uri": "https://localhost:8080/",
          "height": 204
        },
        "outputId": "d74c7b0a-1874-4bc2-9499-d4f59561e92e"
      },
      "source": [
        "data.head()"
      ],
      "execution_count": 34,
      "outputs": [
        {
          "output_type": "execute_result",
          "data": {
            "text/html": [
              "<div>\n",
              "<style scoped>\n",
              "    .dataframe tbody tr th:only-of-type {\n",
              "        vertical-align: middle;\n",
              "    }\n",
              "\n",
              "    .dataframe tbody tr th {\n",
              "        vertical-align: top;\n",
              "    }\n",
              "\n",
              "    .dataframe thead th {\n",
              "        text-align: right;\n",
              "    }\n",
              "</style>\n",
              "<table border=\"1\" class=\"dataframe\">\n",
              "  <thead>\n",
              "    <tr style=\"text-align: right;\">\n",
              "      <th></th>\n",
              "      <th>number</th>\n",
              "      <th>x</th>\n",
              "      <th>y</th>\n",
              "      <th>z</th>\n",
              "      <th>activity</th>\n",
              "      <th>label</th>\n",
              "      <th>x-scaled</th>\n",
              "      <th>y-scaled</th>\n",
              "      <th>z-scaled</th>\n",
              "      <th>N-feature</th>\n",
              "    </tr>\n",
              "  </thead>\n",
              "  <tbody>\n",
              "    <tr>\n",
              "      <th>0</th>\n",
              "      <td>0.0</td>\n",
              "      <td>1502</td>\n",
              "      <td>2215</td>\n",
              "      <td>2153</td>\n",
              "      <td>1</td>\n",
              "      <td>1</td>\n",
              "      <td>-4.360297</td>\n",
              "      <td>-1.669479</td>\n",
              "      <td>1.931520</td>\n",
              "      <td>2.917197</td>\n",
              "    </tr>\n",
              "    <tr>\n",
              "      <th>1</th>\n",
              "      <td>1.0</td>\n",
              "      <td>1667</td>\n",
              "      <td>2072</td>\n",
              "      <td>2047</td>\n",
              "      <td>1</td>\n",
              "      <td>1</td>\n",
              "      <td>-2.878360</td>\n",
              "      <td>-3.096472</td>\n",
              "      <td>0.809722</td>\n",
              "      <td>2.485206</td>\n",
              "    </tr>\n",
              "    <tr>\n",
              "      <th>2</th>\n",
              "      <td>2.0</td>\n",
              "      <td>1611</td>\n",
              "      <td>1957</td>\n",
              "      <td>1906</td>\n",
              "      <td>1</td>\n",
              "      <td>1</td>\n",
              "      <td>-3.381321</td>\n",
              "      <td>-4.244054</td>\n",
              "      <td>-0.682480</td>\n",
              "      <td>3.157589</td>\n",
              "    </tr>\n",
              "    <tr>\n",
              "      <th>3</th>\n",
              "      <td>3.0</td>\n",
              "      <td>1601</td>\n",
              "      <td>1939</td>\n",
              "      <td>1831</td>\n",
              "      <td>1</td>\n",
              "      <td>1</td>\n",
              "      <td>-3.471135</td>\n",
              "      <td>-4.423675</td>\n",
              "      <td>-1.476205</td>\n",
              "      <td>3.356430</td>\n",
              "    </tr>\n",
              "    <tr>\n",
              "      <th>4</th>\n",
              "      <td>4.0</td>\n",
              "      <td>1643</td>\n",
              "      <td>1965</td>\n",
              "      <td>1879</td>\n",
              "      <td>1</td>\n",
              "      <td>1</td>\n",
              "      <td>-3.093915</td>\n",
              "      <td>-4.164222</td>\n",
              "      <td>-0.968221</td>\n",
              "      <td>3.046884</td>\n",
              "    </tr>\n",
              "  </tbody>\n",
              "</table>\n",
              "</div>"
            ],
            "text/plain": [
              "   number     x     y     z  ...  x-scaled  y-scaled  z-scaled  N-feature\n",
              "0     0.0  1502  2215  2153  ... -4.360297 -1.669479  1.931520   2.917197\n",
              "1     1.0  1667  2072  2047  ... -2.878360 -3.096472  0.809722   2.485206\n",
              "2     2.0  1611  1957  1906  ... -3.381321 -4.244054 -0.682480   3.157589\n",
              "3     3.0  1601  1939  1831  ... -3.471135 -4.423675 -1.476205   3.356430\n",
              "4     4.0  1643  1965  1879  ... -3.093915 -4.164222 -0.968221   3.046884\n",
              "\n",
              "[5 rows x 10 columns]"
            ]
          },
          "metadata": {
            "tags": []
          },
          "execution_count": 34
        }
      ]
    },
    {
      "cell_type": "code",
      "metadata": {
        "id": "Ip4bDkyORQMg",
        "colab_type": "code",
        "colab": {
          "base_uri": "https://localhost:8080/",
          "height": 306
        },
        "outputId": "655dbaa3-f1ba-48ba-cd2f-293c3f96d464"
      },
      "source": [
        "# Create frame for activity #7 and groupping it by testees\n",
        "df = data[['x-scaled', 'y-scaled', 'z-scaled', 'activity', 'label']]\n",
        "data_act_1 = df[df['activity'] == 7]\n",
        "data_group = data_act_1.groupby('label').size()\n",
        "print (data_group)"
      ],
      "execution_count": 35,
      "outputs": [
        {
          "output_type": "stream",
          "text": [
            "label\n",
            "1     83748\n",
            "2     33431\n",
            "3     20940\n",
            "4     35490\n",
            "5     77600\n",
            "6     36711\n",
            "7     83701\n",
            "8     33750\n",
            "9     83660\n",
            "10    22231\n",
            "11    17151\n",
            "12    14901\n",
            "13    17249\n",
            "14    15500\n",
            "15    17500\n",
            "dtype: int64\n"
          ],
          "name": "stdout"
        }
      ]
    },
    {
      "cell_type": "code",
      "metadata": {
        "id": "4KlcR0zvRUOu",
        "colab_type": "code",
        "colab": {
          "base_uri": "https://localhost:8080/",
          "height": 240
        },
        "outputId": "3a5bebd1-519a-43f9-c676-78c98e3d5272"
      },
      "source": [
        "data.head()"
      ],
      "execution_count": 36,
      "outputs": [
        {
          "output_type": "execute_result",
          "data": {
            "text/html": [
              "<div>\n",
              "<style scoped>\n",
              "    .dataframe tbody tr th:only-of-type {\n",
              "        vertical-align: middle;\n",
              "    }\n",
              "\n",
              "    .dataframe tbody tr th {\n",
              "        vertical-align: top;\n",
              "    }\n",
              "\n",
              "    .dataframe thead th {\n",
              "        text-align: right;\n",
              "    }\n",
              "</style>\n",
              "<table border=\"1\" class=\"dataframe\">\n",
              "  <thead>\n",
              "    <tr style=\"text-align: right;\">\n",
              "      <th></th>\n",
              "      <th>number</th>\n",
              "      <th>x</th>\n",
              "      <th>y</th>\n",
              "      <th>z</th>\n",
              "      <th>activity</th>\n",
              "      <th>label</th>\n",
              "      <th>x-scaled</th>\n",
              "      <th>y-scaled</th>\n",
              "      <th>z-scaled</th>\n",
              "      <th>N-feature</th>\n",
              "    </tr>\n",
              "  </thead>\n",
              "  <tbody>\n",
              "    <tr>\n",
              "      <th>0</th>\n",
              "      <td>0.0</td>\n",
              "      <td>1502</td>\n",
              "      <td>2215</td>\n",
              "      <td>2153</td>\n",
              "      <td>1</td>\n",
              "      <td>1</td>\n",
              "      <td>-4.360297</td>\n",
              "      <td>-1.669479</td>\n",
              "      <td>1.931520</td>\n",
              "      <td>2.917197</td>\n",
              "    </tr>\n",
              "    <tr>\n",
              "      <th>1</th>\n",
              "      <td>1.0</td>\n",
              "      <td>1667</td>\n",
              "      <td>2072</td>\n",
              "      <td>2047</td>\n",
              "      <td>1</td>\n",
              "      <td>1</td>\n",
              "      <td>-2.878360</td>\n",
              "      <td>-3.096472</td>\n",
              "      <td>0.809722</td>\n",
              "      <td>2.485206</td>\n",
              "    </tr>\n",
              "    <tr>\n",
              "      <th>2</th>\n",
              "      <td>2.0</td>\n",
              "      <td>1611</td>\n",
              "      <td>1957</td>\n",
              "      <td>1906</td>\n",
              "      <td>1</td>\n",
              "      <td>1</td>\n",
              "      <td>-3.381321</td>\n",
              "      <td>-4.244054</td>\n",
              "      <td>-0.682480</td>\n",
              "      <td>3.157589</td>\n",
              "    </tr>\n",
              "    <tr>\n",
              "      <th>3</th>\n",
              "      <td>3.0</td>\n",
              "      <td>1601</td>\n",
              "      <td>1939</td>\n",
              "      <td>1831</td>\n",
              "      <td>1</td>\n",
              "      <td>1</td>\n",
              "      <td>-3.471135</td>\n",
              "      <td>-4.423675</td>\n",
              "      <td>-1.476205</td>\n",
              "      <td>3.356430</td>\n",
              "    </tr>\n",
              "    <tr>\n",
              "      <th>4</th>\n",
              "      <td>4.0</td>\n",
              "      <td>1643</td>\n",
              "      <td>1965</td>\n",
              "      <td>1879</td>\n",
              "      <td>1</td>\n",
              "      <td>1</td>\n",
              "      <td>-3.093915</td>\n",
              "      <td>-4.164222</td>\n",
              "      <td>-0.968221</td>\n",
              "      <td>3.046884</td>\n",
              "    </tr>\n",
              "  </tbody>\n",
              "</table>\n",
              "</div>"
            ],
            "text/plain": [
              "   number     x     y     z  ...  x-scaled  y-scaled  z-scaled  N-feature\n",
              "0     0.0  1502  2215  2153  ... -4.360297 -1.669479  1.931520   2.917197\n",
              "1     1.0  1667  2072  2047  ... -2.878360 -3.096472  0.809722   2.485206\n",
              "2     2.0  1611  1957  1906  ... -3.381321 -4.244054 -0.682480   3.157589\n",
              "3     3.0  1601  1939  1831  ... -3.471135 -4.423675 -1.476205   3.356430\n",
              "4     4.0  1643  1965  1879  ... -3.093915 -4.164222 -0.968221   3.046884\n",
              "\n",
              "[5 rows x 10 columns]"
            ]
          },
          "metadata": {
            "tags": []
          },
          "execution_count": 36
        }
      ]
    },
    {
      "cell_type": "code",
      "metadata": {
        "id": "638U223ZRVNS",
        "colab_type": "code",
        "colab": {
          "base_uri": "https://localhost:8080/",
          "height": 34
        },
        "outputId": "cce1ba75-47f5-4a28-bf2e-34ebe6baab99"
      },
      "source": [
        "features = data_act_1[['x-scaled','y-scaled','z-scaled']]\n",
        "labels = data_act_1['label']\n",
        "\n",
        "# Split the dataset into the training set and test subsets.\n",
        "X_train, X_test, y_train, y_test = train_test_split(features, labels, test_size=0.3, random_state=0)\n",
        "print(X_train.shape, X_test.shape, y_train.shape, y_test.shape)"
      ],
      "execution_count": 37,
      "outputs": [
        {
          "output_type": "stream",
          "text": [
            "(415494, 3) (178069, 3) (415494,) (178069,)\n"
          ],
          "name": "stdout"
        }
      ]
    },
    {
      "cell_type": "code",
      "metadata": {
        "id": "tf8PN9_NRjqV",
        "colab_type": "code",
        "colab": {
          "base_uri": "https://localhost:8080/",
          "height": 51
        },
        "outputId": "050c8272-064b-47c1-f8f3-1c7198c0a818"
      },
      "source": [
        "t0 = time()\n",
        "clf = GaussianNB()\n",
        "clf.fit(X_train,y_train)\n",
        "prediction = clf.predict(X_test)\n",
        "print (\"time on training and prediction:\", round(time()-t0, 3), \"s\")  \n",
        "print (scoring(prediction, y_test))"
      ],
      "execution_count": 38,
      "outputs": [
        {
          "output_type": "stream",
          "text": [
            "time on training and prediction: 0.186 s\n",
            "Accuracy score is 90.01%\n"
          ],
          "name": "stdout"
        }
      ]
    },
    {
      "cell_type": "code",
      "metadata": {
        "id": "AJHxGYIKRoTh",
        "colab_type": "code",
        "colab": {
          "base_uri": "https://localhost:8080/",
          "height": 51
        },
        "outputId": "cb3f3053-2f78-420e-e2bb-ca370134aeea"
      },
      "source": [
        "t0 = time()\n",
        "clf = SVC()\n",
        "clf.fit(X_train[:30000],y_train[:30000])\n",
        "prediction = clf.predict(X_test[:10000])\n",
        "print (\"time on training and prediction:\", round(time()-t0, 3), \"s\")  \n",
        "print (scoring(prediction, y_test[:10000]))"
      ],
      "execution_count": 39,
      "outputs": [
        {
          "output_type": "stream",
          "text": [
            "time on training and prediction: 5.404 s\n",
            "Accuracy score is 92.78%\n"
          ],
          "name": "stdout"
        }
      ]
    },
    {
      "cell_type": "code",
      "metadata": {
        "id": "cf6BAnZyRqnD",
        "colab_type": "code",
        "colab": {
          "base_uri": "https://localhost:8080/",
          "height": 52
        },
        "outputId": "55da4f69-3a75-44cd-d720-55eb50fa4e68"
      },
      "source": [
        "t0 = time()\n",
        "clf = tree.DecisionTreeClassifier()\n",
        "clf.fit(X_train,y_train)\n",
        "prediction = clf.predict(X_test)\n",
        "print (scoring(prediction, y_test))\n",
        "print (\"time on training and prediction:\", round(time()-t0, 3), \"s\")  "
      ],
      "execution_count": 40,
      "outputs": [
        {
          "output_type": "stream",
          "text": [
            "Accuracy score is 90.22%\n",
            "time on training and prediction: 1.894 s\n"
          ],
          "name": "stdout"
        }
      ]
    },
    {
      "cell_type": "code",
      "metadata": {
        "id": "2b7zSFl2RtNH",
        "colab_type": "code",
        "colab": {
          "base_uri": "https://localhost:8080/",
          "height": 170
        },
        "outputId": "943ff447-db75-4512-80db-4e29f826a0be"
      },
      "source": [
        "t0 = time()\n",
        "model = XGBClassifier()\n",
        "model.fit(X_train[:20000], y_train[:20000])\n",
        "print (model)\n",
        "pred = model.predict(X_test[:5000])\n",
        "print (\"time on training and prediction:\", round(time()-t0, 3), \"s\")\n",
        "print (scoring(pred, y_test[:5000]))"
      ],
      "execution_count": 41,
      "outputs": [
        {
          "output_type": "stream",
          "text": [
            "XGBClassifier(base_score=0.5, booster='gbtree', colsample_bylevel=1,\n",
            "              colsample_bynode=1, colsample_bytree=1, gamma=0,\n",
            "              learning_rate=0.1, max_delta_step=0, max_depth=3,\n",
            "              min_child_weight=1, missing=None, n_estimators=100, n_jobs=1,\n",
            "              nthread=None, objective='multi:softprob', random_state=0,\n",
            "              reg_alpha=0, reg_lambda=1, scale_pos_weight=1, seed=None,\n",
            "              silent=None, subsample=1, verbosity=1)\n",
            "time on training and prediction: 6.969 s\n",
            "Accuracy score is 92.46%\n"
          ],
          "name": "stdout"
        }
      ]
    },
    {
      "cell_type": "code",
      "metadata": {
        "id": "-8-t-H1URwNy",
        "colab_type": "code",
        "colab": {
          "base_uri": "https://localhost:8080/",
          "height": 51
        },
        "outputId": "f0f454d2-f834-4dea-e2fb-bc4515ae6a60"
      },
      "source": [
        "from sklearn.neighbors import KNeighborsClassifier\n",
        "t0 = time()\n",
        "clf = KNeighborsClassifier(n_neighbors=5)\n",
        "clf.fit(X_train,y_train)\n",
        "prediction = clf.predict(X_test)\n",
        "print (scoring(prediction, y_test))\n",
        "print (\"time on training and prediction:\", round(time()-t0, 3), \"s\")"
      ],
      "execution_count": 42,
      "outputs": [
        {
          "output_type": "stream",
          "text": [
            "Accuracy score is 93.09%\n",
            "time on training and prediction: 6.539 s\n"
          ],
          "name": "stdout"
        }
      ]
    },
    {
      "cell_type": "code",
      "metadata": {
        "id": "G-p4vTpzRy0b",
        "colab_type": "code",
        "colab": {
          "base_uri": "https://localhost:8080/",
          "height": 51
        },
        "outputId": "f9dd8c3c-2b21-45d7-dd5d-e0a924be49b9"
      },
      "source": [
        "from sklearn.ensemble import RandomForestClassifier\n",
        "t0 = time()\n",
        "clf = RandomForestClassifier(max_depth=14, random_state=10)\n",
        "clf.fit(X_train,y_train)\n",
        "prediction = clf.predict(X_test)\n",
        "print (scoring(prediction, y_test))\n",
        "print (\"time on training and prediction:\", round(time()-t0, 3), \"s\")  "
      ],
      "execution_count": 43,
      "outputs": [
        {
          "output_type": "stream",
          "text": [
            "Accuracy score is 93.57%\n",
            "time on training and prediction: 43.978 s\n"
          ],
          "name": "stdout"
        }
      ]
    },
    {
      "cell_type": "code",
      "metadata": {
        "id": "J02GA03FR4zc",
        "colab_type": "code",
        "colab": {
          "base_uri": "https://localhost:8080/",
          "height": 51
        },
        "outputId": "d2d208c4-6c2f-4de4-a716-5c72f6ee72e1"
      },
      "source": [
        "from sklearn.ensemble import AdaBoostClassifier\n",
        "t0 = time()\n",
        "clf = AdaBoostClassifier(base_estimator=RandomForestClassifier(), n_estimators=5, learning_rate=1.0, algorithm='SAMME.R', random_state=None)\n",
        "clf.fit(X_train,y_train)\n",
        "prediction = clf.predict(X_test)\n",
        "print (scoring(prediction, y_test))\n",
        "print (\"time on training and prediction:\", round(time()-t0, 3), \"s\")  "
      ],
      "execution_count": 44,
      "outputs": [
        {
          "output_type": "stream",
          "text": [
            "Accuracy score is 93.15%\n",
            "time on training and prediction: 417.644 s\n"
          ],
          "name": "stdout"
        }
      ]
    },
    {
      "cell_type": "code",
      "metadata": {
        "id": "xpXx3XW5YGb1",
        "colab_type": "code",
        "colab": {}
      },
      "source": [
        ""
      ],
      "execution_count": 0,
      "outputs": []
    }
  ]
}