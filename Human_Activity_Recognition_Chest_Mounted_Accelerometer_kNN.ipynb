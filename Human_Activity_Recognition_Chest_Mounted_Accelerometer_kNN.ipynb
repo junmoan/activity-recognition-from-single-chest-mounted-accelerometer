{
  "nbformat": 4,
  "nbformat_minor": 0,
  "metadata": {
    "colab": {
      "name": "Human_Activity_Recognition_Chest_Mounted_Accelerometer_kNN.ipynb",
      "provenance": [],
      "collapsed_sections": []
    },
    "kernelspec": {
      "name": "python3",
      "display_name": "Python 3"
    }
  },
  "cells": [
    {
      "cell_type": "code",
      "metadata": {
        "id": "T9dGraDR82gl",
        "colab_type": "code",
        "colab": {}
      },
      "source": [
        "import pandas as pd"
      ],
      "execution_count": 0,
      "outputs": []
    },
    {
      "cell_type": "code",
      "metadata": {
        "id": "JIcJ9xpTKaGq",
        "colab_type": "code",
        "colab": {}
      },
      "source": [
        "# Load the Activity Recognition from Single Chest-Mounted Accelerometer dataset.\n",
        "# The dataset can be downloaded here: https://archive.ics.uci.edu/ml/datasets/Activity+Recognition+from+Single+Chest-Mounted+Accelerometer.\n",
        "df = pd.read_csv('./drive/My Drive/ML_Code/Human Activity Recognition/HAR/1.csv', header=None)\n",
        "df.columns = ['index', 'x', 'y', 'z', 'activity']"
      ],
      "execution_count": 0,
      "outputs": []
    },
    {
      "cell_type": "code",
      "metadata": {
        "id": "GibZRZ5jKmVD",
        "colab_type": "code",
        "colab": {
          "base_uri": "https://localhost:8080/",
          "height": 204
        },
        "outputId": "ebf15d87-e8c0-4c95-cab1-d04c4180b74c"
      },
      "source": [
        "df.head()"
      ],
      "execution_count": 100,
      "outputs": [
        {
          "output_type": "execute_result",
          "data": {
            "text/html": [
              "<div>\n",
              "<style scoped>\n",
              "    .dataframe tbody tr th:only-of-type {\n",
              "        vertical-align: middle;\n",
              "    }\n",
              "\n",
              "    .dataframe tbody tr th {\n",
              "        vertical-align: top;\n",
              "    }\n",
              "\n",
              "    .dataframe thead th {\n",
              "        text-align: right;\n",
              "    }\n",
              "</style>\n",
              "<table border=\"1\" class=\"dataframe\">\n",
              "  <thead>\n",
              "    <tr style=\"text-align: right;\">\n",
              "      <th></th>\n",
              "      <th>index</th>\n",
              "      <th>x</th>\n",
              "      <th>y</th>\n",
              "      <th>z</th>\n",
              "      <th>activity</th>\n",
              "    </tr>\n",
              "  </thead>\n",
              "  <tbody>\n",
              "    <tr>\n",
              "      <th>0</th>\n",
              "      <td>0.0</td>\n",
              "      <td>1502</td>\n",
              "      <td>2215</td>\n",
              "      <td>2153</td>\n",
              "      <td>1</td>\n",
              "    </tr>\n",
              "    <tr>\n",
              "      <th>1</th>\n",
              "      <td>1.0</td>\n",
              "      <td>1667</td>\n",
              "      <td>2072</td>\n",
              "      <td>2047</td>\n",
              "      <td>1</td>\n",
              "    </tr>\n",
              "    <tr>\n",
              "      <th>2</th>\n",
              "      <td>2.0</td>\n",
              "      <td>1611</td>\n",
              "      <td>1957</td>\n",
              "      <td>1906</td>\n",
              "      <td>1</td>\n",
              "    </tr>\n",
              "    <tr>\n",
              "      <th>3</th>\n",
              "      <td>3.0</td>\n",
              "      <td>1601</td>\n",
              "      <td>1939</td>\n",
              "      <td>1831</td>\n",
              "      <td>1</td>\n",
              "    </tr>\n",
              "    <tr>\n",
              "      <th>4</th>\n",
              "      <td>4.0</td>\n",
              "      <td>1643</td>\n",
              "      <td>1965</td>\n",
              "      <td>1879</td>\n",
              "      <td>1</td>\n",
              "    </tr>\n",
              "  </tbody>\n",
              "</table>\n",
              "</div>"
            ],
            "text/plain": [
              "   index     x     y     z  activity\n",
              "0    0.0  1502  2215  2153         1\n",
              "1    1.0  1667  2072  2047         1\n",
              "2    2.0  1611  1957  1906         1\n",
              "3    3.0  1601  1939  1831         1\n",
              "4    4.0  1643  1965  1879         1"
            ]
          },
          "metadata": {
            "tags": []
          },
          "execution_count": 100
        }
      ]
    },
    {
      "cell_type": "code",
      "metadata": {
        "id": "Sw9kU2NvLNrq",
        "colab_type": "code",
        "colab": {
          "base_uri": "https://localhost:8080/",
          "height": 204
        },
        "outputId": "c8302368-3cd1-48ab-e37e-ea3d6e62e2c3"
      },
      "source": [
        "df.tail()"
      ],
      "execution_count": 101,
      "outputs": [
        {
          "output_type": "execute_result",
          "data": {
            "text/html": [
              "<div>\n",
              "<style scoped>\n",
              "    .dataframe tbody tr th:only-of-type {\n",
              "        vertical-align: middle;\n",
              "    }\n",
              "\n",
              "    .dataframe tbody tr th {\n",
              "        vertical-align: top;\n",
              "    }\n",
              "\n",
              "    .dataframe thead th {\n",
              "        text-align: right;\n",
              "    }\n",
              "</style>\n",
              "<table border=\"1\" class=\"dataframe\">\n",
              "  <thead>\n",
              "    <tr style=\"text-align: right;\">\n",
              "      <th></th>\n",
              "      <th>index</th>\n",
              "      <th>x</th>\n",
              "      <th>y</th>\n",
              "      <th>z</th>\n",
              "      <th>activity</th>\n",
              "    </tr>\n",
              "  </thead>\n",
              "  <tbody>\n",
              "    <tr>\n",
              "      <th>162496</th>\n",
              "      <td>162500.0</td>\n",
              "      <td>1927</td>\n",
              "      <td>2388</td>\n",
              "      <td>2074</td>\n",
              "      <td>7</td>\n",
              "    </tr>\n",
              "    <tr>\n",
              "      <th>162497</th>\n",
              "      <td>162500.0</td>\n",
              "      <td>1930</td>\n",
              "      <td>2383</td>\n",
              "      <td>2074</td>\n",
              "      <td>7</td>\n",
              "    </tr>\n",
              "    <tr>\n",
              "      <th>162498</th>\n",
              "      <td>162500.0</td>\n",
              "      <td>1929</td>\n",
              "      <td>2385</td>\n",
              "      <td>2076</td>\n",
              "      <td>7</td>\n",
              "    </tr>\n",
              "    <tr>\n",
              "      <th>162499</th>\n",
              "      <td>162500.0</td>\n",
              "      <td>1926</td>\n",
              "      <td>2385</td>\n",
              "      <td>2078</td>\n",
              "      <td>7</td>\n",
              "    </tr>\n",
              "    <tr>\n",
              "      <th>162500</th>\n",
              "      <td>162500.0</td>\n",
              "      <td>1922</td>\n",
              "      <td>2387</td>\n",
              "      <td>2078</td>\n",
              "      <td>0</td>\n",
              "    </tr>\n",
              "  </tbody>\n",
              "</table>\n",
              "</div>"
            ],
            "text/plain": [
              "           index     x     y     z  activity\n",
              "162496  162500.0  1927  2388  2074         7\n",
              "162497  162500.0  1930  2383  2074         7\n",
              "162498  162500.0  1929  2385  2076         7\n",
              "162499  162500.0  1926  2385  2078         7\n",
              "162500  162500.0  1922  2387  2078         0"
            ]
          },
          "metadata": {
            "tags": []
          },
          "execution_count": 101
        }
      ]
    },
    {
      "cell_type": "code",
      "metadata": {
        "id": "IGkp1TgsKoAS",
        "colab_type": "code",
        "colab": {
          "base_uri": "https://localhost:8080/",
          "height": 170
        },
        "outputId": "cdf5a403-5255-4c0c-df9d-b66c42a47ada"
      },
      "source": [
        "df['activity'].value_counts(normalize=True)"
      ],
      "execution_count": 102,
      "outputs": [
        {
          "output_type": "execute_result",
          "data": {
            "text/plain": [
              "7    0.515369\n",
              "1    0.207242\n",
              "4    0.165291\n",
              "3    0.068793\n",
              "5    0.019637\n",
              "6    0.017951\n",
              "2    0.005711\n",
              "0    0.000006\n",
              "Name: activity, dtype: float64"
            ]
          },
          "metadata": {
            "tags": []
          },
          "execution_count": 102
        }
      ]
    },
    {
      "cell_type": "code",
      "metadata": {
        "id": "t9SJuxHBLaYK",
        "colab_type": "code",
        "colab": {
          "base_uri": "https://localhost:8080/",
          "height": 170
        },
        "outputId": "9b9efa30-f556-4985-c3bd-39127a879530"
      },
      "source": [
        "df['activity'].value_counts()"
      ],
      "execution_count": 103,
      "outputs": [
        {
          "output_type": "execute_result",
          "data": {
            "text/plain": [
              "7    83748\n",
              "1    33677\n",
              "4    26860\n",
              "3    11179\n",
              "5     3191\n",
              "6     2917\n",
              "2      928\n",
              "0        1\n",
              "Name: activity, dtype: int64"
            ]
          },
          "metadata": {
            "tags": []
          },
          "execution_count": 103
        }
      ]
    },
    {
      "cell_type": "code",
      "metadata": {
        "id": "KLnqxzIKLniF",
        "colab_type": "code",
        "colab": {}
      },
      "source": [
        "df = df[df.activity != 0]"
      ],
      "execution_count": 0,
      "outputs": []
    },
    {
      "cell_type": "code",
      "metadata": {
        "id": "A5c5WlmtLpps",
        "colab_type": "code",
        "colab": {
          "base_uri": "https://localhost:8080/",
          "height": 153
        },
        "outputId": "5c785d49-01a8-4600-ea92-9a84c2c3143c"
      },
      "source": [
        "df['activity'].value_counts()"
      ],
      "execution_count": 105,
      "outputs": [
        {
          "output_type": "execute_result",
          "data": {
            "text/plain": [
              "7    83748\n",
              "1    33677\n",
              "4    26860\n",
              "3    11179\n",
              "5     3191\n",
              "6     2917\n",
              "2      928\n",
              "Name: activity, dtype: int64"
            ]
          },
          "metadata": {
            "tags": []
          },
          "execution_count": 105
        }
      ]
    },
    {
      "cell_type": "code",
      "metadata": {
        "id": "PToqpjBeK0Wf",
        "colab_type": "code",
        "colab": {}
      },
      "source": [
        "from sklearn.neighbors import KNeighborsClassifier\n",
        "from sklearn.model_selection import GridSearchCV"
      ],
      "execution_count": 0,
      "outputs": []
    },
    {
      "cell_type": "code",
      "metadata": {
        "id": "dEu6z6OvKte-",
        "colab_type": "code",
        "colab": {}
      },
      "source": [
        "X = df[['x', 'y', 'z']]\n",
        "# create our feature matrix by removing the response variable\n",
        "y = df['activity']"
      ],
      "execution_count": 0,
      "outputs": []
    },
    {
      "cell_type": "code",
      "metadata": {
        "id": "LOzIT1d5TskV",
        "colab_type": "code",
        "colab": {
          "base_uri": "https://localhost:8080/",
          "height": 323
        },
        "outputId": "3a0ce56c-f7f8-4bda-90b3-c5e57b6702b3"
      },
      "source": [
        "# Min-Max Normailzation.\n",
        "X['x'] = (X['x']-X['x'].min()) / (X['x'].max()-X['x'].min())\n",
        "X['y'] = (X['y']-X['y'].min()) / (X['y'].max()-X['y'].min())\n",
        "X['z'] = (X['z']-X['z'].min()) / (X['z'].max()-X['z'].min())"
      ],
      "execution_count": 108,
      "outputs": [
        {
          "output_type": "stream",
          "text": [
            "/usr/local/lib/python3.6/dist-packages/ipykernel_launcher.py:1: SettingWithCopyWarning: \n",
            "A value is trying to be set on a copy of a slice from a DataFrame.\n",
            "Try using .loc[row_indexer,col_indexer] = value instead\n",
            "\n",
            "See the caveats in the documentation: https://pandas.pydata.org/pandas-docs/stable/user_guide/indexing.html#returning-a-view-versus-a-copy\n",
            "  \"\"\"Entry point for launching an IPython kernel.\n",
            "/usr/local/lib/python3.6/dist-packages/ipykernel_launcher.py:2: SettingWithCopyWarning: \n",
            "A value is trying to be set on a copy of a slice from a DataFrame.\n",
            "Try using .loc[row_indexer,col_indexer] = value instead\n",
            "\n",
            "See the caveats in the documentation: https://pandas.pydata.org/pandas-docs/stable/user_guide/indexing.html#returning-a-view-versus-a-copy\n",
            "  \n",
            "/usr/local/lib/python3.6/dist-packages/ipykernel_launcher.py:3: SettingWithCopyWarning: \n",
            "A value is trying to be set on a copy of a slice from a DataFrame.\n",
            "Try using .loc[row_indexer,col_indexer] = value instead\n",
            "\n",
            "See the caveats in the documentation: https://pandas.pydata.org/pandas-docs/stable/user_guide/indexing.html#returning-a-view-versus-a-copy\n",
            "  This is separate from the ipykernel package so we can avoid doing imports until\n"
          ],
          "name": "stderr"
        }
      ]
    },
    {
      "cell_type": "code",
      "metadata": {
        "id": "GvIxavF_MhGO",
        "colab_type": "code",
        "colab": {
          "base_uri": "https://localhost:8080/",
          "height": 34
        },
        "outputId": "26fb60f0-9124-4f88-b16d-b9df101bc645"
      },
      "source": [
        "# Split the dataset into the training set and test subsets.\n",
        "from sklearn.model_selection import train_test_split\n",
        "X_train, X_test, y_train, y_test = train_test_split(X, y, test_size=0.3, random_state=0)\n",
        "print(X_train.shape, X_test.shape, y_train.shape, y_test.shape)"
      ],
      "execution_count": 109,
      "outputs": [
        {
          "output_type": "stream",
          "text": [
            "(113750, 3) (48750, 3) (113750,) (48750,)\n"
          ],
          "name": "stdout"
        }
      ]
    },
    {
      "cell_type": "code",
      "metadata": {
        "id": "-bgoqeYfK3hx",
        "colab_type": "code",
        "colab": {}
      },
      "source": [
        "# KNN parameters to try\n",
        "knn_params = {'n_neighbors':[3, 4, 5, 6]}"
      ],
      "execution_count": 0,
      "outputs": []
    },
    {
      "cell_type": "code",
      "metadata": {
        "id": "n4ItZGnxK8oZ",
        "colab_type": "code",
        "colab": {
          "base_uri": "https://localhost:8080/",
          "height": 51
        },
        "outputId": "98da4937-0e67-4741-d61d-f91669660efb"
      },
      "source": [
        "%%time\n",
        "knn = KNeighborsClassifier()\n",
        "grid = GridSearchCV(knn, knn_params)\n",
        "#grid.fit(X, y)\n",
        "grid.fit(X_train, y_train)"
      ],
      "execution_count": 111,
      "outputs": [
        {
          "output_type": "stream",
          "text": [
            "CPU times: user 16.2 s, sys: 8.78 ms, total: 16.2 s\n",
            "Wall time: 16.3 s\n"
          ],
          "name": "stdout"
        }
      ]
    },
    {
      "cell_type": "code",
      "metadata": {
        "id": "AEFxBI62NQCv",
        "colab_type": "code",
        "colab": {
          "base_uri": "https://localhost:8080/",
          "height": 51
        },
        "outputId": "75439816-2c10-4226-ab51-b6acb1f6c8cd"
      },
      "source": [
        "# Predict.\n",
        "%%time\n",
        "y_pred = grid.predict(X_test)"
      ],
      "execution_count": 112,
      "outputs": [
        {
          "output_type": "stream",
          "text": [
            "CPU times: user 1.51 s, sys: 2.98 ms, total: 1.51 s\n",
            "Wall time: 1.51 s\n"
          ],
          "name": "stdout"
        }
      ]
    },
    {
      "cell_type": "code",
      "metadata": {
        "id": "NxHVlS5nK-43",
        "colab_type": "code",
        "colab": {
          "base_uri": "https://localhost:8080/",
          "height": 34
        },
        "outputId": "781d292b-c1b3-4de3-8254-18e9aea686d4"
      },
      "source": [
        "print(grid.best_score_, grid.best_params_)"
      ],
      "execution_count": 113,
      "outputs": [
        {
          "output_type": "stream",
          "text": [
            "0.8416087912087914 {'n_neighbors': 6}\n"
          ],
          "name": "stdout"
        }
      ]
    },
    {
      "cell_type": "code",
      "metadata": {
        "id": "26kyx5-VMF33",
        "colab_type": "code",
        "colab": {}
      },
      "source": [
        "from sklearn import metrics\n",
        "from sklearn.metrics import confusion_matrix,classification_report\n",
        "from mlxtend.plotting import plot_confusion_matrix\n",
        "import matplotlib.pyplot as plt\n",
        "import seaborn as sns"
      ],
      "execution_count": 0,
      "outputs": []
    },
    {
      "cell_type": "code",
      "metadata": {
        "id": "6y_lp0ClLCWv",
        "colab_type": "code",
        "colab": {
          "base_uri": "https://localhost:8080/",
          "height": 853
        },
        "outputId": "98b57b59-9de8-4ba5-e035-176b20cb1704"
      },
      "source": [
        "# Same labels will be reused throughout the program\n",
        "LABELS = ['Working at Computer',\n",
        "          'Standing Up, Walking and Going Up\\Down Stairs',\n",
        "          'Standing',\n",
        "          'Walking',\n",
        "          'Going Up\\Down Stairs',\n",
        "          'Walking and Talking with Someone',\n",
        "          'Talking while Standing']\n",
        "\n",
        "y_pred = grid.predict(X_test)\n",
        "cm = metrics.confusion_matrix(y_test, y_pred)\n",
        "\n",
        "plt.figure(figsize=(10, 10))\n",
        "sns.heatmap(cm,\n",
        "            cmap='coolwarm',\n",
        "            linecolor='white',\n",
        "            linewidths=1,\n",
        "            xticklabels=LABELS,\n",
        "            yticklabels=LABELS,\n",
        "            annot=True,\n",
        "            fmt='d')\n",
        "plt.title('Confusion Matrix')\n",
        "plt.ylabel('True Label')\n",
        "plt.xlabel('Predicted Label')\n",
        "plt.show()\n",
        "plt.show()"
      ],
      "execution_count": 115,
      "outputs": [
        {
          "output_type": "display_data",
          "data": {
            "image/png": "[encoded data removed]",
            "text/plain": [
              "<Figure size 720x720 with 2 Axes>"
            ]
          },
          "metadata": {
            "tags": [],
            "needs_background": "light"
          }
        }
      ]
    },
    {
      "cell_type": "code",
      "metadata": {
        "id": "eekTGsHwMBJl",
        "colab_type": "code",
        "colab": {
          "base_uri": "https://localhost:8080/",
          "height": 255
        },
        "outputId": "d126bc4b-0365-48b8-c373-f21df0397a5d"
      },
      "source": [
        "print(classification_report(y_test, y_pred))"
      ],
      "execution_count": 116,
      "outputs": [
        {
          "output_type": "stream",
          "text": [
            "              precision    recall  f1-score   support\n",
            "\n",
            "           1       0.95      0.97      0.96     10021\n",
            "           2       0.32      0.13      0.18       294\n",
            "           3       0.48      0.36      0.41      3288\n",
            "           4       0.74      0.82      0.78      7964\n",
            "           5       0.51      0.30      0.38       959\n",
            "           6       0.30      0.04      0.06       874\n",
            "           7       0.88      0.92      0.90     25350\n",
            "\n",
            "    accuracy                           0.84     48750\n",
            "   macro avg       0.60      0.50      0.52     48750\n",
            "weighted avg       0.82      0.84      0.83     48750\n",
            "\n"
          ],
          "name": "stdout"
        }
      ]
    },
    {
      "cell_type": "code",
      "metadata": {
        "id": "FRqLTWq4N4wg",
        "colab_type": "code",
        "colab": {}
      },
      "source": [
        ""
      ],
      "execution_count": 0,
      "outputs": []
    }
  ]
}